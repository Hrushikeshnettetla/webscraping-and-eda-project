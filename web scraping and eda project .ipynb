{
 "cells": [
  {
   "cell_type": "markdown",
   "id": "ac1d4e7a",
   "metadata": {},
   "source": [
    "## webscraping and Eda project"
   ]
  },
  {
   "cell_type": "code",
   "execution_count": 1,
   "id": "e510dee5",
   "metadata": {},
   "outputs": [],
   "source": [
    "# Loading required libraries\n",
    "from selenium import webdriver\n",
    "from selenium.webdriver.edge.service import Service\n",
    "from selenium.webdriver.common.by import By"
   ]
  },
  {
   "cell_type": "markdown",
   "id": "872341a0",
   "metadata": {},
   "source": [
    "## code for webscraping"
   ]
  },
  {
   "cell_type": "code",
   "execution_count": 2,
   "id": "2d31a3ab",
   "metadata": {},
   "outputs": [
    {
     "name": "stderr",
     "output_type": "stream",
     "text": [
      "C:\\Users\\hrush\\AppData\\Local\\Temp\\ipykernel_12576\\2708832706.py:3: DeprecationWarning: executable_path has been deprecated, please pass in a Service object\n",
      "  driver = webdriver.Edge(path)\n"
     ]
    }
   ],
   "source": [
    "website = 'https://www.cars24.com/buy-used-car?sort=P&storeCityId=3686&pinId=500001'\n",
    "path = 'C:/Users/hrush/Downloads/edgedriver_win64/msedgedriver'\n",
    "driver = webdriver.Edge(path)\n",
    "driver.get(website)"
   ]
  },
  {
   "cell_type": "code",
   "execution_count": 5,
   "id": "64e68423",
   "metadata": {},
   "outputs": [],
   "source": [
    "# Scrapping the Web Page\n",
    "\n",
    "title=driver.find_elements(By.CLASS_NAME,'_3FpCg')\n",
    "engine=driver.find_elements(By.CLASS_NAME,'cvakB')\n",
    "detail=driver.find_elements(By.CLASS_NAME,'bVR0c')\n",
    "price=driver.find_elements(By.CLASS_NAME,'_7udZZ')\n",
    "\n",
    "\n",
    "titles = []\n",
    "engines = []\n",
    "details = []\n",
    "prices = []\n",
    "\n",
    "for values in title:\n",
    "    titles.append(values.text)\n",
    "    \n",
    "for values in engine:\n",
    "    engines.append(values.text)\n",
    "    \n",
    "for values in detail:\n",
    "    details.append(values.text)\n",
    "\n",
    "for values in price:\n",
    "    prices.append(values.text)"
   ]
  },
  {
   "cell_type": "code",
   "execution_count": 6,
   "id": "0d96164e",
   "metadata": {},
   "outputs": [
    {
     "name": "stdout",
     "output_type": "stream",
     "text": [
      "577\n",
      "577\n",
      "577\n",
      "577\n"
     ]
    }
   ],
   "source": [
    "print(len(titles))\n",
    "print(len(engines))\n",
    "print(len(details))\n",
    "print(len(prices))"
   ]
  },
  {
   "cell_type": "code",
   "execution_count": 7,
   "id": "f71bf450",
   "metadata": {},
   "outputs": [],
   "source": [
    "driver.quit()"
   ]
  },
  {
   "cell_type": "markdown",
   "id": "838e0a98",
   "metadata": {},
   "source": [
    "## creating a dataframe and saving it in a csv file"
   ]
  },
  {
   "cell_type": "code",
   "execution_count": 6,
   "id": "fd75d300",
   "metadata": {},
   "outputs": [],
   "source": [
    "import pandas as pd"
   ]
  },
  {
   "cell_type": "code",
   "execution_count": 7,
   "id": "db8f0334",
   "metadata": {},
   "outputs": [],
   "source": [
    "df = pd.DataFrame({'car_title' : titles, 'engine_transmission' : engines, 'car_details' : details, 'car_price' : prices})"
   ]
  },
  {
   "cell_type": "code",
   "execution_count": 8,
   "id": "93615e21",
   "metadata": {},
   "outputs": [
    {
     "data": {
      "text/html": [
       "<div>\n",
       "<style scoped>\n",
       "    .dataframe tbody tr th:only-of-type {\n",
       "        vertical-align: middle;\n",
       "    }\n",
       "\n",
       "    .dataframe tbody tr th {\n",
       "        vertical-align: top;\n",
       "    }\n",
       "\n",
       "    .dataframe thead th {\n",
       "        text-align: right;\n",
       "    }\n",
       "</style>\n",
       "<table border=\"1\" class=\"dataframe\">\n",
       "  <thead>\n",
       "    <tr style=\"text-align: right;\">\n",
       "      <th></th>\n",
       "      <th>car_title</th>\n",
       "      <th>engine_transmission</th>\n",
       "      <th>car_details</th>\n",
       "      <th>car_price</th>\n",
       "    </tr>\n",
       "  </thead>\n",
       "  <tbody>\n",
       "    <tr>\n",
       "      <th>0</th>\n",
       "      <td>2015 Maruti Swift Dzire</td>\n",
       "      <td>VXI Manual</td>\n",
       "      <td>94,590 km\\n1st Owner\\nPetrol\\nTS-07</td>\n",
       "      <td>₹4,70,699</td>\n",
       "    </tr>\n",
       "    <tr>\n",
       "      <th>1</th>\n",
       "      <td>2014 Hyundai Eon</td>\n",
       "      <td>ERA PLUS Manual</td>\n",
       "      <td>69,079 km\\n1st Owner\\nPetrol\\nTS-10</td>\n",
       "      <td>₹2,92,299</td>\n",
       "    </tr>\n",
       "    <tr>\n",
       "      <th>2</th>\n",
       "      <td>2018 Maruti Ertiga</td>\n",
       "      <td>ZDI PLUS SHVS Manual</td>\n",
       "      <td>68,297 km\\n1st Owner\\nDiesel\\nTS-07</td>\n",
       "      <td>₹9,93,899</td>\n",
       "    </tr>\n",
       "    <tr>\n",
       "      <th>3</th>\n",
       "      <td>2020 Maruti Swift</td>\n",
       "      <td>VXI Manual</td>\n",
       "      <td>10,056 km\\n2nd Owner\\nPetrol\\nAP-39</td>\n",
       "      <td>₹6,43,499</td>\n",
       "    </tr>\n",
       "    <tr>\n",
       "      <th>4</th>\n",
       "      <td>2021 Mahindra Scorpio</td>\n",
       "      <td>S11 Manual</td>\n",
       "      <td>43,956 km\\n1st Owner\\nDiesel\\nAP-39</td>\n",
       "      <td>₹16,29,399</td>\n",
       "    </tr>\n",
       "  </tbody>\n",
       "</table>\n",
       "</div>"
      ],
      "text/plain": [
       "                 car_title   engine_transmission  \\\n",
       "0  2015 Maruti Swift Dzire            VXI Manual   \n",
       "1         2014 Hyundai Eon       ERA PLUS Manual   \n",
       "2       2018 Maruti Ertiga  ZDI PLUS SHVS Manual   \n",
       "3        2020 Maruti Swift            VXI Manual   \n",
       "4    2021 Mahindra Scorpio            S11 Manual   \n",
       "\n",
       "                           car_details   car_price  \n",
       "0  94,590 km\\n1st Owner\\nPetrol\\nTS-07   ₹4,70,699  \n",
       "1  69,079 km\\n1st Owner\\nPetrol\\nTS-10   ₹2,92,299  \n",
       "2  68,297 km\\n1st Owner\\nDiesel\\nTS-07   ₹9,93,899  \n",
       "3  10,056 km\\n2nd Owner\\nPetrol\\nAP-39   ₹6,43,499  \n",
       "4  43,956 km\\n1st Owner\\nDiesel\\nAP-39  ₹16,29,399  "
      ]
     },
     "execution_count": 8,
     "metadata": {},
     "output_type": "execute_result"
    }
   ],
   "source": [
    "df.head()"
   ]
  },
  {
   "cell_type": "code",
   "execution_count": 9,
   "id": "1f1410fd",
   "metadata": {},
   "outputs": [
    {
     "data": {
      "text/html": [
       "<div>\n",
       "<style scoped>\n",
       "    .dataframe tbody tr th:only-of-type {\n",
       "        vertical-align: middle;\n",
       "    }\n",
       "\n",
       "    .dataframe tbody tr th {\n",
       "        vertical-align: top;\n",
       "    }\n",
       "\n",
       "    .dataframe thead th {\n",
       "        text-align: right;\n",
       "    }\n",
       "</style>\n",
       "<table border=\"1\" class=\"dataframe\">\n",
       "  <thead>\n",
       "    <tr style=\"text-align: right;\">\n",
       "      <th></th>\n",
       "      <th>car_title</th>\n",
       "      <th>engine_transmission</th>\n",
       "      <th>car_details</th>\n",
       "      <th>car_price</th>\n",
       "    </tr>\n",
       "  </thead>\n",
       "  <tbody>\n",
       "    <tr>\n",
       "      <th>510</th>\n",
       "      <td>2021 Renault Kwid</td>\n",
       "      <td>1.0 RXT Opt Manual</td>\n",
       "      <td>23,026 km\\n1st Owner\\nPetrol\\nTS-10</td>\n",
       "      <td>₹4,89,299</td>\n",
       "    </tr>\n",
       "    <tr>\n",
       "      <th>511</th>\n",
       "      <td>2017 Volkswagen Ameo</td>\n",
       "      <td>COMFORTLINE 1.2 Manual</td>\n",
       "      <td>94,983 km\\n1st Owner\\nPetrol\\nTS-07</td>\n",
       "      <td>₹5,50,999</td>\n",
       "    </tr>\n",
       "    <tr>\n",
       "      <th>512</th>\n",
       "      <td>2018 Maruti Swift</td>\n",
       "      <td>ZXI AMT Automatic</td>\n",
       "      <td>12,164 km\\n1st Owner\\nPetrol\\nTS-07</td>\n",
       "      <td>₹7,47,699</td>\n",
       "    </tr>\n",
       "    <tr>\n",
       "      <th>513</th>\n",
       "      <td>2019 Ford Ecosport</td>\n",
       "      <td>1.5TITANIUM TDCI Manual</td>\n",
       "      <td>51,782 km\\n2nd Owner\\nDiesel\\nTS-07</td>\n",
       "      <td>₹8,84,599</td>\n",
       "    </tr>\n",
       "    <tr>\n",
       "      <th>514</th>\n",
       "      <td>2017 Hyundai Grand i10</td>\n",
       "      <td>SPORTZ (O) 1.2 AT VTVT Automatic</td>\n",
       "      <td>36,725 km\\n1st Owner\\nPetrol\\nTS-10</td>\n",
       "      <td>₹6,31,499</td>\n",
       "    </tr>\n",
       "  </tbody>\n",
       "</table>\n",
       "</div>"
      ],
      "text/plain": [
       "                  car_title               engine_transmission  \\\n",
       "510       2021 Renault Kwid                1.0 RXT Opt Manual   \n",
       "511    2017 Volkswagen Ameo            COMFORTLINE 1.2 Manual   \n",
       "512       2018 Maruti Swift                 ZXI AMT Automatic   \n",
       "513      2019 Ford Ecosport           1.5TITANIUM TDCI Manual   \n",
       "514  2017 Hyundai Grand i10  SPORTZ (O) 1.2 AT VTVT Automatic   \n",
       "\n",
       "                             car_details  car_price  \n",
       "510  23,026 km\\n1st Owner\\nPetrol\\nTS-10  ₹4,89,299  \n",
       "511  94,983 km\\n1st Owner\\nPetrol\\nTS-07  ₹5,50,999  \n",
       "512  12,164 km\\n1st Owner\\nPetrol\\nTS-07  ₹7,47,699  \n",
       "513  51,782 km\\n2nd Owner\\nDiesel\\nTS-07  ₹8,84,599  \n",
       "514  36,725 km\\n1st Owner\\nPetrol\\nTS-10  ₹6,31,499  "
      ]
     },
     "execution_count": 9,
     "metadata": {},
     "output_type": "execute_result"
    }
   ],
   "source": [
    "df.tail()"
   ]
  },
  {
   "cell_type": "code",
   "execution_count": 10,
   "id": "deb49b2a",
   "metadata": {},
   "outputs": [
    {
     "data": {
      "text/plain": [
       "(515, 4)"
      ]
     },
     "execution_count": 10,
     "metadata": {},
     "output_type": "execute_result"
    }
   ],
   "source": [
    "df.shape"
   ]
  },
  {
   "cell_type": "code",
   "execution_count": 12,
   "id": "51e33273",
   "metadata": {},
   "outputs": [
    {
     "name": "stdout",
     "output_type": "stream",
     "text": [
      "<class 'pandas.core.frame.DataFrame'>\n",
      "RangeIndex: 515 entries, 0 to 514\n",
      "Data columns (total 4 columns):\n",
      " #   Column               Non-Null Count  Dtype \n",
      "---  ------               --------------  ----- \n",
      " 0   car_title            515 non-null    object\n",
      " 1   engine_transmission  515 non-null    object\n",
      " 2   car_details          515 non-null    object\n",
      " 3   car_price            515 non-null    object\n",
      "dtypes: object(4)\n",
      "memory usage: 16.2+ KB\n"
     ]
    }
   ],
   "source": [
    "df.info()"
   ]
  },
  {
   "cell_type": "code",
   "execution_count": 13,
   "id": "164ea459",
   "metadata": {},
   "outputs": [
    {
     "data": {
      "text/html": [
       "<div>\n",
       "<style scoped>\n",
       "    .dataframe tbody tr th:only-of-type {\n",
       "        vertical-align: middle;\n",
       "    }\n",
       "\n",
       "    .dataframe tbody tr th {\n",
       "        vertical-align: top;\n",
       "    }\n",
       "\n",
       "    .dataframe thead th {\n",
       "        text-align: right;\n",
       "    }\n",
       "</style>\n",
       "<table border=\"1\" class=\"dataframe\">\n",
       "  <thead>\n",
       "    <tr style=\"text-align: right;\">\n",
       "      <th></th>\n",
       "      <th>car_title</th>\n",
       "      <th>engine_transmission</th>\n",
       "      <th>car_details</th>\n",
       "      <th>car_price</th>\n",
       "    </tr>\n",
       "  </thead>\n",
       "  <tbody>\n",
       "    <tr>\n",
       "      <th>count</th>\n",
       "      <td>515</td>\n",
       "      <td>515</td>\n",
       "      <td>515</td>\n",
       "      <td>515</td>\n",
       "    </tr>\n",
       "    <tr>\n",
       "      <th>unique</th>\n",
       "      <td>249</td>\n",
       "      <td>239</td>\n",
       "      <td>515</td>\n",
       "      <td>501</td>\n",
       "    </tr>\n",
       "    <tr>\n",
       "      <th>top</th>\n",
       "      <td>2017 Hyundai Grand i10</td>\n",
       "      <td>VXI Manual</td>\n",
       "      <td>94,590 km\\n1st Owner\\nPetrol\\nTS-07</td>\n",
       "      <td>₹4,70,699</td>\n",
       "    </tr>\n",
       "    <tr>\n",
       "      <th>freq</th>\n",
       "      <td>14</td>\n",
       "      <td>64</td>\n",
       "      <td>1</td>\n",
       "      <td>2</td>\n",
       "    </tr>\n",
       "  </tbody>\n",
       "</table>\n",
       "</div>"
      ],
      "text/plain": [
       "                     car_title engine_transmission  \\\n",
       "count                      515                 515   \n",
       "unique                     249                 239   \n",
       "top     2017 Hyundai Grand i10          VXI Manual   \n",
       "freq                        14                  64   \n",
       "\n",
       "                                car_details  car_price  \n",
       "count                                   515        515  \n",
       "unique                                  515        501  \n",
       "top     94,590 km\\n1st Owner\\nPetrol\\nTS-07  ₹4,70,699  \n",
       "freq                                      1          2  "
      ]
     },
     "execution_count": 13,
     "metadata": {},
     "output_type": "execute_result"
    }
   ],
   "source": [
    "df.describe()"
   ]
  },
  {
   "cell_type": "markdown",
   "id": "09012d8d",
   "metadata": {},
   "source": [
    "## saving dataframe to a csv file"
   ]
  },
  {
   "cell_type": "code",
   "execution_count": 14,
   "id": "8b1a13a0",
   "metadata": {},
   "outputs": [
    {
     "data": {
      "text/plain": [
       "'C:\\\\Users\\\\hrush'"
      ]
     },
     "execution_count": 14,
     "metadata": {},
     "output_type": "execute_result"
    }
   ],
   "source": [
    "import os\n",
    "os.getcwd()"
   ]
  },
  {
   "cell_type": "code",
   "execution_count": 15,
   "id": "690c3235",
   "metadata": {},
   "outputs": [],
   "source": [
    "df.to_csv('C:\\\\Users\\\\hrush\\\\cars24_websrapingandEDA_project.csv', index = False)"
   ]
  },
  {
   "cell_type": "code",
   "execution_count": 17,
   "id": "dbe02903",
   "metadata": {},
   "outputs": [
    {
     "data": {
      "text/plain": [
       "car_title              0\n",
       "engine_transmission    0\n",
       "car_details            0\n",
       "car_price              0\n",
       "dtype: int64"
      ]
     },
     "execution_count": 17,
     "metadata": {},
     "output_type": "execute_result"
    }
   ],
   "source": [
    "df.isnull().sum()"
   ]
  },
  {
   "cell_type": "markdown",
   "id": "304a3d1c",
   "metadata": {},
   "source": [
    "## Extracting the Details using Regex"
   ]
  },
  {
   "cell_type": "code",
   "execution_count": 8,
   "id": "2cc83c42",
   "metadata": {},
   "outputs": [],
   "source": [
    "import numpy as np\n",
    "import pandas as pd\n",
    "import re"
   ]
  },
  {
   "cell_type": "code",
   "execution_count": 9,
   "id": "143d86df",
   "metadata": {},
   "outputs": [],
   "source": [
    "df = pd.read_csv('C:\\\\Users\\\\hrush\\\\cars24_websrapingandEDA_project.csv')"
   ]
  },
  {
   "cell_type": "code",
   "execution_count": 10,
   "id": "577e9c48",
   "metadata": {},
   "outputs": [
    {
     "data": {
      "text/html": [
       "<div>\n",
       "<style scoped>\n",
       "    .dataframe tbody tr th:only-of-type {\n",
       "        vertical-align: middle;\n",
       "    }\n",
       "\n",
       "    .dataframe tbody tr th {\n",
       "        vertical-align: top;\n",
       "    }\n",
       "\n",
       "    .dataframe thead th {\n",
       "        text-align: right;\n",
       "    }\n",
       "</style>\n",
       "<table border=\"1\" class=\"dataframe\">\n",
       "  <thead>\n",
       "    <tr style=\"text-align: right;\">\n",
       "      <th></th>\n",
       "      <th>car_title</th>\n",
       "      <th>engine_transmission</th>\n",
       "      <th>car_details</th>\n",
       "      <th>car_price</th>\n",
       "    </tr>\n",
       "  </thead>\n",
       "  <tbody>\n",
       "    <tr>\n",
       "      <th>0</th>\n",
       "      <td>2015 Maruti Swift Dzire</td>\n",
       "      <td>VXI Manual</td>\n",
       "      <td>94,590 km\\n1st Owner\\nPetrol\\nTS-07</td>\n",
       "      <td>₹4,70,699</td>\n",
       "    </tr>\n",
       "    <tr>\n",
       "      <th>1</th>\n",
       "      <td>2014 Hyundai Eon</td>\n",
       "      <td>ERA PLUS Manual</td>\n",
       "      <td>69,079 km\\n1st Owner\\nPetrol\\nTS-10</td>\n",
       "      <td>₹2,92,299</td>\n",
       "    </tr>\n",
       "    <tr>\n",
       "      <th>2</th>\n",
       "      <td>2018 Maruti Ertiga</td>\n",
       "      <td>ZDI PLUS SHVS Manual</td>\n",
       "      <td>68,297 km\\n1st Owner\\nDiesel\\nTS-07</td>\n",
       "      <td>₹9,93,899</td>\n",
       "    </tr>\n",
       "    <tr>\n",
       "      <th>3</th>\n",
       "      <td>2020 Maruti Swift</td>\n",
       "      <td>VXI Manual</td>\n",
       "      <td>10,056 km\\n2nd Owner\\nPetrol\\nAP-39</td>\n",
       "      <td>₹6,43,499</td>\n",
       "    </tr>\n",
       "    <tr>\n",
       "      <th>4</th>\n",
       "      <td>2021 Mahindra Scorpio</td>\n",
       "      <td>S11 Manual</td>\n",
       "      <td>43,956 km\\n1st Owner\\nDiesel\\nAP-39</td>\n",
       "      <td>₹16,29,399</td>\n",
       "    </tr>\n",
       "  </tbody>\n",
       "</table>\n",
       "</div>"
      ],
      "text/plain": [
       "                 car_title   engine_transmission  \\\n",
       "0  2015 Maruti Swift Dzire            VXI Manual   \n",
       "1         2014 Hyundai Eon       ERA PLUS Manual   \n",
       "2       2018 Maruti Ertiga  ZDI PLUS SHVS Manual   \n",
       "3        2020 Maruti Swift            VXI Manual   \n",
       "4    2021 Mahindra Scorpio            S11 Manual   \n",
       "\n",
       "                           car_details   car_price  \n",
       "0  94,590 km\\n1st Owner\\nPetrol\\nTS-07   ₹4,70,699  \n",
       "1  69,079 km\\n1st Owner\\nPetrol\\nTS-10   ₹2,92,299  \n",
       "2  68,297 km\\n1st Owner\\nDiesel\\nTS-07   ₹9,93,899  \n",
       "3  10,056 km\\n2nd Owner\\nPetrol\\nAP-39   ₹6,43,499  \n",
       "4  43,956 km\\n1st Owner\\nDiesel\\nAP-39  ₹16,29,399  "
      ]
     },
     "execution_count": 10,
     "metadata": {},
     "output_type": "execute_result"
    }
   ],
   "source": [
    "df.head()"
   ]
  },
  {
   "cell_type": "code",
   "execution_count": 11,
   "id": "6bf85e27",
   "metadata": {},
   "outputs": [
    {
     "name": "stdout",
     "output_type": "stream",
     "text": [
      "94,590 km\n",
      "1st Owner\n",
      "Petrol\n",
      "TS-07\n"
     ]
    }
   ],
   "source": [
    "print(df['car_details'][0])"
   ]
  },
  {
   "cell_type": "code",
   "execution_count": 12,
   "id": "1578ba25",
   "metadata": {},
   "outputs": [
    {
     "data": {
      "text/plain": [
       "0      [94,590]\n",
       "1      [69,079]\n",
       "2      [68,297]\n",
       "3      [10,056]\n",
       "4      [43,956]\n",
       "         ...   \n",
       "510    [23,026]\n",
       "511    [94,983]\n",
       "512    [12,164]\n",
       "513    [51,782]\n",
       "514    [36,725]\n",
       "Name: car_details, Length: 515, dtype: object"
      ]
     },
     "execution_count": 12,
     "metadata": {},
     "output_type": "execute_result"
    }
   ],
   "source": [
    "# km driven Information\n",
    "regex = r'\\d+,\\d+'\n",
    "\n",
    "df['car_details'].apply(lambda x : re.findall(regex,x))\n"
   ]
  },
  {
   "cell_type": "code",
   "execution_count": 13,
   "id": "6d8a5a49",
   "metadata": {},
   "outputs": [],
   "source": [
    "df['km_driven'] = df['car_details'].apply(lambda x : re.findall(regex, x))"
   ]
  },
  {
   "cell_type": "code",
   "execution_count": 14,
   "id": "ef219cca",
   "metadata": {},
   "outputs": [
    {
     "data": {
      "text/html": [
       "<div>\n",
       "<style scoped>\n",
       "    .dataframe tbody tr th:only-of-type {\n",
       "        vertical-align: middle;\n",
       "    }\n",
       "\n",
       "    .dataframe tbody tr th {\n",
       "        vertical-align: top;\n",
       "    }\n",
       "\n",
       "    .dataframe thead th {\n",
       "        text-align: right;\n",
       "    }\n",
       "</style>\n",
       "<table border=\"1\" class=\"dataframe\">\n",
       "  <thead>\n",
       "    <tr style=\"text-align: right;\">\n",
       "      <th></th>\n",
       "      <th>car_title</th>\n",
       "      <th>engine_transmission</th>\n",
       "      <th>car_details</th>\n",
       "      <th>car_price</th>\n",
       "      <th>km_driven</th>\n",
       "    </tr>\n",
       "  </thead>\n",
       "  <tbody>\n",
       "    <tr>\n",
       "      <th>0</th>\n",
       "      <td>2015 Maruti Swift Dzire</td>\n",
       "      <td>VXI Manual</td>\n",
       "      <td>94,590 km\\n1st Owner\\nPetrol\\nTS-07</td>\n",
       "      <td>₹4,70,699</td>\n",
       "      <td>[94,590]</td>\n",
       "    </tr>\n",
       "    <tr>\n",
       "      <th>1</th>\n",
       "      <td>2014 Hyundai Eon</td>\n",
       "      <td>ERA PLUS Manual</td>\n",
       "      <td>69,079 km\\n1st Owner\\nPetrol\\nTS-10</td>\n",
       "      <td>₹2,92,299</td>\n",
       "      <td>[69,079]</td>\n",
       "    </tr>\n",
       "    <tr>\n",
       "      <th>2</th>\n",
       "      <td>2018 Maruti Ertiga</td>\n",
       "      <td>ZDI PLUS SHVS Manual</td>\n",
       "      <td>68,297 km\\n1st Owner\\nDiesel\\nTS-07</td>\n",
       "      <td>₹9,93,899</td>\n",
       "      <td>[68,297]</td>\n",
       "    </tr>\n",
       "    <tr>\n",
       "      <th>3</th>\n",
       "      <td>2020 Maruti Swift</td>\n",
       "      <td>VXI Manual</td>\n",
       "      <td>10,056 km\\n2nd Owner\\nPetrol\\nAP-39</td>\n",
       "      <td>₹6,43,499</td>\n",
       "      <td>[10,056]</td>\n",
       "    </tr>\n",
       "    <tr>\n",
       "      <th>4</th>\n",
       "      <td>2021 Mahindra Scorpio</td>\n",
       "      <td>S11 Manual</td>\n",
       "      <td>43,956 km\\n1st Owner\\nDiesel\\nAP-39</td>\n",
       "      <td>₹16,29,399</td>\n",
       "      <td>[43,956]</td>\n",
       "    </tr>\n",
       "  </tbody>\n",
       "</table>\n",
       "</div>"
      ],
      "text/plain": [
       "                 car_title   engine_transmission  \\\n",
       "0  2015 Maruti Swift Dzire            VXI Manual   \n",
       "1         2014 Hyundai Eon       ERA PLUS Manual   \n",
       "2       2018 Maruti Ertiga  ZDI PLUS SHVS Manual   \n",
       "3        2020 Maruti Swift            VXI Manual   \n",
       "4    2021 Mahindra Scorpio            S11 Manual   \n",
       "\n",
       "                           car_details   car_price km_driven  \n",
       "0  94,590 km\\n1st Owner\\nPetrol\\nTS-07   ₹4,70,699  [94,590]  \n",
       "1  69,079 km\\n1st Owner\\nPetrol\\nTS-10   ₹2,92,299  [69,079]  \n",
       "2  68,297 km\\n1st Owner\\nDiesel\\nTS-07   ₹9,93,899  [68,297]  \n",
       "3  10,056 km\\n2nd Owner\\nPetrol\\nAP-39   ₹6,43,499  [10,056]  \n",
       "4  43,956 km\\n1st Owner\\nDiesel\\nAP-39  ₹16,29,399  [43,956]  "
      ]
     },
     "execution_count": 14,
     "metadata": {},
     "output_type": "execute_result"
    }
   ],
   "source": [
    "df.head()"
   ]
  },
  {
   "cell_type": "code",
   "execution_count": 15,
   "id": "ca0716f6",
   "metadata": {},
   "outputs": [
    {
     "data": {
      "text/plain": [
       "0      [1st]\n",
       "1      [1st]\n",
       "2      [1st]\n",
       "3      [2nd]\n",
       "4      [1st]\n",
       "       ...  \n",
       "510    [1st]\n",
       "511    [1st]\n",
       "512    [1st]\n",
       "513    [2nd]\n",
       "514    [1st]\n",
       "Name: car_details, Length: 515, dtype: object"
      ]
     },
     "execution_count": 15,
     "metadata": {},
     "output_type": "execute_result"
    }
   ],
   "source": [
    "## ownership information\n",
    "\n",
    "regex =  '\\d[a-z][a-z]'\n",
    "\n",
    "df['car_details'].apply(lambda x : re.findall(regex, x))"
   ]
  },
  {
   "cell_type": "code",
   "execution_count": 16,
   "id": "640b7c2d",
   "metadata": {},
   "outputs": [],
   "source": [
    "df['ownership'] = df['car_details'].apply(lambda x : re.findall(regex, x))"
   ]
  },
  {
   "cell_type": "code",
   "execution_count": 17,
   "id": "f3a324d5",
   "metadata": {},
   "outputs": [
    {
     "data": {
      "text/html": [
       "<div>\n",
       "<style scoped>\n",
       "    .dataframe tbody tr th:only-of-type {\n",
       "        vertical-align: middle;\n",
       "    }\n",
       "\n",
       "    .dataframe tbody tr th {\n",
       "        vertical-align: top;\n",
       "    }\n",
       "\n",
       "    .dataframe thead th {\n",
       "        text-align: right;\n",
       "    }\n",
       "</style>\n",
       "<table border=\"1\" class=\"dataframe\">\n",
       "  <thead>\n",
       "    <tr style=\"text-align: right;\">\n",
       "      <th></th>\n",
       "      <th>car_title</th>\n",
       "      <th>engine_transmission</th>\n",
       "      <th>car_details</th>\n",
       "      <th>car_price</th>\n",
       "      <th>km_driven</th>\n",
       "      <th>ownership</th>\n",
       "    </tr>\n",
       "  </thead>\n",
       "  <tbody>\n",
       "    <tr>\n",
       "      <th>0</th>\n",
       "      <td>2015 Maruti Swift Dzire</td>\n",
       "      <td>VXI Manual</td>\n",
       "      <td>94,590 km\\n1st Owner\\nPetrol\\nTS-07</td>\n",
       "      <td>₹4,70,699</td>\n",
       "      <td>[94,590]</td>\n",
       "      <td>[1st]</td>\n",
       "    </tr>\n",
       "    <tr>\n",
       "      <th>1</th>\n",
       "      <td>2014 Hyundai Eon</td>\n",
       "      <td>ERA PLUS Manual</td>\n",
       "      <td>69,079 km\\n1st Owner\\nPetrol\\nTS-10</td>\n",
       "      <td>₹2,92,299</td>\n",
       "      <td>[69,079]</td>\n",
       "      <td>[1st]</td>\n",
       "    </tr>\n",
       "    <tr>\n",
       "      <th>2</th>\n",
       "      <td>2018 Maruti Ertiga</td>\n",
       "      <td>ZDI PLUS SHVS Manual</td>\n",
       "      <td>68,297 km\\n1st Owner\\nDiesel\\nTS-07</td>\n",
       "      <td>₹9,93,899</td>\n",
       "      <td>[68,297]</td>\n",
       "      <td>[1st]</td>\n",
       "    </tr>\n",
       "    <tr>\n",
       "      <th>3</th>\n",
       "      <td>2020 Maruti Swift</td>\n",
       "      <td>VXI Manual</td>\n",
       "      <td>10,056 km\\n2nd Owner\\nPetrol\\nAP-39</td>\n",
       "      <td>₹6,43,499</td>\n",
       "      <td>[10,056]</td>\n",
       "      <td>[2nd]</td>\n",
       "    </tr>\n",
       "    <tr>\n",
       "      <th>4</th>\n",
       "      <td>2021 Mahindra Scorpio</td>\n",
       "      <td>S11 Manual</td>\n",
       "      <td>43,956 km\\n1st Owner\\nDiesel\\nAP-39</td>\n",
       "      <td>₹16,29,399</td>\n",
       "      <td>[43,956]</td>\n",
       "      <td>[1st]</td>\n",
       "    </tr>\n",
       "  </tbody>\n",
       "</table>\n",
       "</div>"
      ],
      "text/plain": [
       "                 car_title   engine_transmission  \\\n",
       "0  2015 Maruti Swift Dzire            VXI Manual   \n",
       "1         2014 Hyundai Eon       ERA PLUS Manual   \n",
       "2       2018 Maruti Ertiga  ZDI PLUS SHVS Manual   \n",
       "3        2020 Maruti Swift            VXI Manual   \n",
       "4    2021 Mahindra Scorpio            S11 Manual   \n",
       "\n",
       "                           car_details   car_price km_driven ownership  \n",
       "0  94,590 km\\n1st Owner\\nPetrol\\nTS-07   ₹4,70,699  [94,590]     [1st]  \n",
       "1  69,079 km\\n1st Owner\\nPetrol\\nTS-10   ₹2,92,299  [69,079]     [1st]  \n",
       "2  68,297 km\\n1st Owner\\nDiesel\\nTS-07   ₹9,93,899  [68,297]     [1st]  \n",
       "3  10,056 km\\n2nd Owner\\nPetrol\\nAP-39   ₹6,43,499  [10,056]     [2nd]  \n",
       "4  43,956 km\\n1st Owner\\nDiesel\\nAP-39  ₹16,29,399  [43,956]     [1st]  "
      ]
     },
     "execution_count": 17,
     "metadata": {},
     "output_type": "execute_result"
    }
   ],
   "source": [
    "df.head()"
   ]
  },
  {
   "cell_type": "code",
   "execution_count": 18,
   "id": "9936b9b1",
   "metadata": {},
   "outputs": [
    {
     "data": {
      "text/plain": [
       "0      [Petrol]\n",
       "1      [Petrol]\n",
       "2      [Diesel]\n",
       "3      [Petrol]\n",
       "4      [Diesel]\n",
       "         ...   \n",
       "510    [Petrol]\n",
       "511    [Petrol]\n",
       "512    [Petrol]\n",
       "513    [Diesel]\n",
       "514    [Petrol]\n",
       "Name: car_details, Length: 515, dtype: object"
      ]
     },
     "execution_count": 18,
     "metadata": {},
     "output_type": "execute_result"
    }
   ],
   "source": [
    "## fuel type information\n",
    "regex =  '[^\\\\n\\s]\\w\\w\\w\\w\\w'\n",
    "\n",
    "df['car_details'].apply(lambda x : re.findall(regex, x))"
   ]
  },
  {
   "cell_type": "code",
   "execution_count": 19,
   "id": "0ae3c9bf",
   "metadata": {},
   "outputs": [
    {
     "data": {
      "text/html": [
       "<div>\n",
       "<style scoped>\n",
       "    .dataframe tbody tr th:only-of-type {\n",
       "        vertical-align: middle;\n",
       "    }\n",
       "\n",
       "    .dataframe tbody tr th {\n",
       "        vertical-align: top;\n",
       "    }\n",
       "\n",
       "    .dataframe thead th {\n",
       "        text-align: right;\n",
       "    }\n",
       "</style>\n",
       "<table border=\"1\" class=\"dataframe\">\n",
       "  <thead>\n",
       "    <tr style=\"text-align: right;\">\n",
       "      <th></th>\n",
       "      <th>car_title</th>\n",
       "      <th>engine_transmission</th>\n",
       "      <th>car_details</th>\n",
       "      <th>car_price</th>\n",
       "      <th>km_driven</th>\n",
       "      <th>ownership</th>\n",
       "      <th>fuel_type</th>\n",
       "    </tr>\n",
       "  </thead>\n",
       "  <tbody>\n",
       "    <tr>\n",
       "      <th>0</th>\n",
       "      <td>2015 Maruti Swift Dzire</td>\n",
       "      <td>VXI Manual</td>\n",
       "      <td>94,590 km\\n1st Owner\\nPetrol\\nTS-07</td>\n",
       "      <td>₹4,70,699</td>\n",
       "      <td>[94,590]</td>\n",
       "      <td>[1st]</td>\n",
       "      <td>[Petrol]</td>\n",
       "    </tr>\n",
       "    <tr>\n",
       "      <th>1</th>\n",
       "      <td>2014 Hyundai Eon</td>\n",
       "      <td>ERA PLUS Manual</td>\n",
       "      <td>69,079 km\\n1st Owner\\nPetrol\\nTS-10</td>\n",
       "      <td>₹2,92,299</td>\n",
       "      <td>[69,079]</td>\n",
       "      <td>[1st]</td>\n",
       "      <td>[Petrol]</td>\n",
       "    </tr>\n",
       "    <tr>\n",
       "      <th>2</th>\n",
       "      <td>2018 Maruti Ertiga</td>\n",
       "      <td>ZDI PLUS SHVS Manual</td>\n",
       "      <td>68,297 km\\n1st Owner\\nDiesel\\nTS-07</td>\n",
       "      <td>₹9,93,899</td>\n",
       "      <td>[68,297]</td>\n",
       "      <td>[1st]</td>\n",
       "      <td>[Diesel]</td>\n",
       "    </tr>\n",
       "    <tr>\n",
       "      <th>3</th>\n",
       "      <td>2020 Maruti Swift</td>\n",
       "      <td>VXI Manual</td>\n",
       "      <td>10,056 km\\n2nd Owner\\nPetrol\\nAP-39</td>\n",
       "      <td>₹6,43,499</td>\n",
       "      <td>[10,056]</td>\n",
       "      <td>[2nd]</td>\n",
       "      <td>[Petrol]</td>\n",
       "    </tr>\n",
       "    <tr>\n",
       "      <th>4</th>\n",
       "      <td>2021 Mahindra Scorpio</td>\n",
       "      <td>S11 Manual</td>\n",
       "      <td>43,956 km\\n1st Owner\\nDiesel\\nAP-39</td>\n",
       "      <td>₹16,29,399</td>\n",
       "      <td>[43,956]</td>\n",
       "      <td>[1st]</td>\n",
       "      <td>[Diesel]</td>\n",
       "    </tr>\n",
       "  </tbody>\n",
       "</table>\n",
       "</div>"
      ],
      "text/plain": [
       "                 car_title   engine_transmission  \\\n",
       "0  2015 Maruti Swift Dzire            VXI Manual   \n",
       "1         2014 Hyundai Eon       ERA PLUS Manual   \n",
       "2       2018 Maruti Ertiga  ZDI PLUS SHVS Manual   \n",
       "3        2020 Maruti Swift            VXI Manual   \n",
       "4    2021 Mahindra Scorpio            S11 Manual   \n",
       "\n",
       "                           car_details   car_price km_driven ownership  \\\n",
       "0  94,590 km\\n1st Owner\\nPetrol\\nTS-07   ₹4,70,699  [94,590]     [1st]   \n",
       "1  69,079 km\\n1st Owner\\nPetrol\\nTS-10   ₹2,92,299  [69,079]     [1st]   \n",
       "2  68,297 km\\n1st Owner\\nDiesel\\nTS-07   ₹9,93,899  [68,297]     [1st]   \n",
       "3  10,056 km\\n2nd Owner\\nPetrol\\nAP-39   ₹6,43,499  [10,056]     [2nd]   \n",
       "4  43,956 km\\n1st Owner\\nDiesel\\nAP-39  ₹16,29,399  [43,956]     [1st]   \n",
       "\n",
       "  fuel_type  \n",
       "0  [Petrol]  \n",
       "1  [Petrol]  \n",
       "2  [Diesel]  \n",
       "3  [Petrol]  \n",
       "4  [Diesel]  "
      ]
     },
     "execution_count": 19,
     "metadata": {},
     "output_type": "execute_result"
    }
   ],
   "source": [
    "df['fuel_type'] = df['car_details'].apply(lambda x : re.findall(regex, x))\n",
    "df.head()"
   ]
  },
  {
   "cell_type": "code",
   "execution_count": 20,
   "id": "be277bf3",
   "metadata": {},
   "outputs": [
    {
     "data": {
      "text/plain": [
       "0      [TS-07]\n",
       "1      [TS-10]\n",
       "2      [TS-07]\n",
       "3      [AP-39]\n",
       "4      [AP-39]\n",
       "        ...   \n",
       "510    [TS-10]\n",
       "511    [TS-07]\n",
       "512    [TS-07]\n",
       "513    [TS-07]\n",
       "514    [TS-10]\n",
       "Name: car_details, Length: 515, dtype: object"
      ]
     },
     "execution_count": 20,
     "metadata": {},
     "output_type": "execute_result"
    }
   ],
   "source": [
    "## registration information\n",
    "\n",
    "regex =  '\\w\\w-\\d\\d'\n",
    "\n",
    "df['car_details'].apply(lambda x : re.findall(regex, x))"
   ]
  },
  {
   "cell_type": "code",
   "execution_count": 21,
   "id": "7238c0cf",
   "metadata": {},
   "outputs": [
    {
     "data": {
      "text/html": [
       "<div>\n",
       "<style scoped>\n",
       "    .dataframe tbody tr th:only-of-type {\n",
       "        vertical-align: middle;\n",
       "    }\n",
       "\n",
       "    .dataframe tbody tr th {\n",
       "        vertical-align: top;\n",
       "    }\n",
       "\n",
       "    .dataframe thead th {\n",
       "        text-align: right;\n",
       "    }\n",
       "</style>\n",
       "<table border=\"1\" class=\"dataframe\">\n",
       "  <thead>\n",
       "    <tr style=\"text-align: right;\">\n",
       "      <th></th>\n",
       "      <th>car_title</th>\n",
       "      <th>engine_transmission</th>\n",
       "      <th>car_details</th>\n",
       "      <th>car_price</th>\n",
       "      <th>km_driven</th>\n",
       "      <th>ownership</th>\n",
       "      <th>fuel_type</th>\n",
       "      <th>Registration</th>\n",
       "    </tr>\n",
       "  </thead>\n",
       "  <tbody>\n",
       "    <tr>\n",
       "      <th>0</th>\n",
       "      <td>2015 Maruti Swift Dzire</td>\n",
       "      <td>VXI Manual</td>\n",
       "      <td>94,590 km\\n1st Owner\\nPetrol\\nTS-07</td>\n",
       "      <td>₹4,70,699</td>\n",
       "      <td>[94,590]</td>\n",
       "      <td>[1st]</td>\n",
       "      <td>[Petrol]</td>\n",
       "      <td>[TS-07]</td>\n",
       "    </tr>\n",
       "    <tr>\n",
       "      <th>1</th>\n",
       "      <td>2014 Hyundai Eon</td>\n",
       "      <td>ERA PLUS Manual</td>\n",
       "      <td>69,079 km\\n1st Owner\\nPetrol\\nTS-10</td>\n",
       "      <td>₹2,92,299</td>\n",
       "      <td>[69,079]</td>\n",
       "      <td>[1st]</td>\n",
       "      <td>[Petrol]</td>\n",
       "      <td>[TS-10]</td>\n",
       "    </tr>\n",
       "    <tr>\n",
       "      <th>2</th>\n",
       "      <td>2018 Maruti Ertiga</td>\n",
       "      <td>ZDI PLUS SHVS Manual</td>\n",
       "      <td>68,297 km\\n1st Owner\\nDiesel\\nTS-07</td>\n",
       "      <td>₹9,93,899</td>\n",
       "      <td>[68,297]</td>\n",
       "      <td>[1st]</td>\n",
       "      <td>[Diesel]</td>\n",
       "      <td>[TS-07]</td>\n",
       "    </tr>\n",
       "    <tr>\n",
       "      <th>3</th>\n",
       "      <td>2020 Maruti Swift</td>\n",
       "      <td>VXI Manual</td>\n",
       "      <td>10,056 km\\n2nd Owner\\nPetrol\\nAP-39</td>\n",
       "      <td>₹6,43,499</td>\n",
       "      <td>[10,056]</td>\n",
       "      <td>[2nd]</td>\n",
       "      <td>[Petrol]</td>\n",
       "      <td>[AP-39]</td>\n",
       "    </tr>\n",
       "    <tr>\n",
       "      <th>4</th>\n",
       "      <td>2021 Mahindra Scorpio</td>\n",
       "      <td>S11 Manual</td>\n",
       "      <td>43,956 km\\n1st Owner\\nDiesel\\nAP-39</td>\n",
       "      <td>₹16,29,399</td>\n",
       "      <td>[43,956]</td>\n",
       "      <td>[1st]</td>\n",
       "      <td>[Diesel]</td>\n",
       "      <td>[AP-39]</td>\n",
       "    </tr>\n",
       "  </tbody>\n",
       "</table>\n",
       "</div>"
      ],
      "text/plain": [
       "                 car_title   engine_transmission  \\\n",
       "0  2015 Maruti Swift Dzire            VXI Manual   \n",
       "1         2014 Hyundai Eon       ERA PLUS Manual   \n",
       "2       2018 Maruti Ertiga  ZDI PLUS SHVS Manual   \n",
       "3        2020 Maruti Swift            VXI Manual   \n",
       "4    2021 Mahindra Scorpio            S11 Manual   \n",
       "\n",
       "                           car_details   car_price km_driven ownership  \\\n",
       "0  94,590 km\\n1st Owner\\nPetrol\\nTS-07   ₹4,70,699  [94,590]     [1st]   \n",
       "1  69,079 km\\n1st Owner\\nPetrol\\nTS-10   ₹2,92,299  [69,079]     [1st]   \n",
       "2  68,297 km\\n1st Owner\\nDiesel\\nTS-07   ₹9,93,899  [68,297]     [1st]   \n",
       "3  10,056 km\\n2nd Owner\\nPetrol\\nAP-39   ₹6,43,499  [10,056]     [2nd]   \n",
       "4  43,956 km\\n1st Owner\\nDiesel\\nAP-39  ₹16,29,399  [43,956]     [1st]   \n",
       "\n",
       "  fuel_type Registration  \n",
       "0  [Petrol]      [TS-07]  \n",
       "1  [Petrol]      [TS-10]  \n",
       "2  [Diesel]      [TS-07]  \n",
       "3  [Petrol]      [AP-39]  \n",
       "4  [Diesel]      [AP-39]  "
      ]
     },
     "execution_count": 21,
     "metadata": {},
     "output_type": "execute_result"
    }
   ],
   "source": [
    "df['Registration'] = df['car_details'].apply(lambda x : re.findall(regex, x))\n",
    "df.head()"
   ]
  },
  {
   "cell_type": "code",
   "execution_count": 22,
   "id": "ff3f1bd4",
   "metadata": {},
   "outputs": [
    {
     "data": {
      "text/plain": [
       "0      [2015]\n",
       "1      [2014]\n",
       "2      [2018]\n",
       "3      [2020]\n",
       "4      [2021]\n",
       "        ...  \n",
       "510    [2021]\n",
       "511    [2017]\n",
       "512    [2018]\n",
       "513    [2019]\n",
       "514    [2017]\n",
       "Name: car_title, Length: 515, dtype: object"
      ]
     },
     "execution_count": 22,
     "metadata": {},
     "output_type": "execute_result"
    }
   ],
   "source": [
    "## model_year information\n",
    "\n",
    "regex =  '\\d\\d\\d\\d'\n",
    "\n",
    "df['car_title'].apply(lambda x : re.findall(regex, x))"
   ]
  },
  {
   "cell_type": "code",
   "execution_count": 23,
   "id": "862dfbc9",
   "metadata": {},
   "outputs": [
    {
     "data": {
      "text/html": [
       "<div>\n",
       "<style scoped>\n",
       "    .dataframe tbody tr th:only-of-type {\n",
       "        vertical-align: middle;\n",
       "    }\n",
       "\n",
       "    .dataframe tbody tr th {\n",
       "        vertical-align: top;\n",
       "    }\n",
       "\n",
       "    .dataframe thead th {\n",
       "        text-align: right;\n",
       "    }\n",
       "</style>\n",
       "<table border=\"1\" class=\"dataframe\">\n",
       "  <thead>\n",
       "    <tr style=\"text-align: right;\">\n",
       "      <th></th>\n",
       "      <th>car_title</th>\n",
       "      <th>engine_transmission</th>\n",
       "      <th>car_details</th>\n",
       "      <th>car_price</th>\n",
       "      <th>km_driven</th>\n",
       "      <th>ownership</th>\n",
       "      <th>fuel_type</th>\n",
       "      <th>Registration</th>\n",
       "      <th>car_model_year</th>\n",
       "    </tr>\n",
       "  </thead>\n",
       "  <tbody>\n",
       "    <tr>\n",
       "      <th>0</th>\n",
       "      <td>2015 Maruti Swift Dzire</td>\n",
       "      <td>VXI Manual</td>\n",
       "      <td>94,590 km\\n1st Owner\\nPetrol\\nTS-07</td>\n",
       "      <td>₹4,70,699</td>\n",
       "      <td>[94,590]</td>\n",
       "      <td>[1st]</td>\n",
       "      <td>[Petrol]</td>\n",
       "      <td>[TS-07]</td>\n",
       "      <td>[2015]</td>\n",
       "    </tr>\n",
       "    <tr>\n",
       "      <th>1</th>\n",
       "      <td>2014 Hyundai Eon</td>\n",
       "      <td>ERA PLUS Manual</td>\n",
       "      <td>69,079 km\\n1st Owner\\nPetrol\\nTS-10</td>\n",
       "      <td>₹2,92,299</td>\n",
       "      <td>[69,079]</td>\n",
       "      <td>[1st]</td>\n",
       "      <td>[Petrol]</td>\n",
       "      <td>[TS-10]</td>\n",
       "      <td>[2014]</td>\n",
       "    </tr>\n",
       "    <tr>\n",
       "      <th>2</th>\n",
       "      <td>2018 Maruti Ertiga</td>\n",
       "      <td>ZDI PLUS SHVS Manual</td>\n",
       "      <td>68,297 km\\n1st Owner\\nDiesel\\nTS-07</td>\n",
       "      <td>₹9,93,899</td>\n",
       "      <td>[68,297]</td>\n",
       "      <td>[1st]</td>\n",
       "      <td>[Diesel]</td>\n",
       "      <td>[TS-07]</td>\n",
       "      <td>[2018]</td>\n",
       "    </tr>\n",
       "    <tr>\n",
       "      <th>3</th>\n",
       "      <td>2020 Maruti Swift</td>\n",
       "      <td>VXI Manual</td>\n",
       "      <td>10,056 km\\n2nd Owner\\nPetrol\\nAP-39</td>\n",
       "      <td>₹6,43,499</td>\n",
       "      <td>[10,056]</td>\n",
       "      <td>[2nd]</td>\n",
       "      <td>[Petrol]</td>\n",
       "      <td>[AP-39]</td>\n",
       "      <td>[2020]</td>\n",
       "    </tr>\n",
       "    <tr>\n",
       "      <th>4</th>\n",
       "      <td>2021 Mahindra Scorpio</td>\n",
       "      <td>S11 Manual</td>\n",
       "      <td>43,956 km\\n1st Owner\\nDiesel\\nAP-39</td>\n",
       "      <td>₹16,29,399</td>\n",
       "      <td>[43,956]</td>\n",
       "      <td>[1st]</td>\n",
       "      <td>[Diesel]</td>\n",
       "      <td>[AP-39]</td>\n",
       "      <td>[2021]</td>\n",
       "    </tr>\n",
       "  </tbody>\n",
       "</table>\n",
       "</div>"
      ],
      "text/plain": [
       "                 car_title   engine_transmission  \\\n",
       "0  2015 Maruti Swift Dzire            VXI Manual   \n",
       "1         2014 Hyundai Eon       ERA PLUS Manual   \n",
       "2       2018 Maruti Ertiga  ZDI PLUS SHVS Manual   \n",
       "3        2020 Maruti Swift            VXI Manual   \n",
       "4    2021 Mahindra Scorpio            S11 Manual   \n",
       "\n",
       "                           car_details   car_price km_driven ownership  \\\n",
       "0  94,590 km\\n1st Owner\\nPetrol\\nTS-07   ₹4,70,699  [94,590]     [1st]   \n",
       "1  69,079 km\\n1st Owner\\nPetrol\\nTS-10   ₹2,92,299  [69,079]     [1st]   \n",
       "2  68,297 km\\n1st Owner\\nDiesel\\nTS-07   ₹9,93,899  [68,297]     [1st]   \n",
       "3  10,056 km\\n2nd Owner\\nPetrol\\nAP-39   ₹6,43,499  [10,056]     [2nd]   \n",
       "4  43,956 km\\n1st Owner\\nDiesel\\nAP-39  ₹16,29,399  [43,956]     [1st]   \n",
       "\n",
       "  fuel_type Registration car_model_year  \n",
       "0  [Petrol]      [TS-07]         [2015]  \n",
       "1  [Petrol]      [TS-10]         [2014]  \n",
       "2  [Diesel]      [TS-07]         [2018]  \n",
       "3  [Petrol]      [AP-39]         [2020]  \n",
       "4  [Diesel]      [AP-39]         [2021]  "
      ]
     },
     "execution_count": 23,
     "metadata": {},
     "output_type": "execute_result"
    }
   ],
   "source": [
    "df['car_model_year'] = df['car_title'].apply(lambda x : re.findall(regex, x))\n",
    "df.head()"
   ]
  },
  {
   "cell_type": "code",
   "execution_count": 24,
   "id": "29c9b20f",
   "metadata": {},
   "outputs": [
    {
     "data": {
      "text/plain": [
       "0      [ Maruti,  Swift,  Dzire]\n",
       "1               [ Hyundai,  Eon]\n",
       "2             [ Maruti,  Ertiga]\n",
       "3              [ Maruti,  Swift]\n",
       "4          [ Mahindra,  Scorpio]\n",
       "                 ...            \n",
       "510            [ Renault,  Kwid]\n",
       "511         [ Volkswagen,  Ameo]\n",
       "512            [ Maruti,  Swift]\n",
       "513           [ Ford,  Ecosport]\n",
       "514     [ Hyundai,  Grand,  i10]\n",
       "Name: car_title, Length: 515, dtype: object"
      ]
     },
     "execution_count": 24,
     "metadata": {},
     "output_type": "execute_result"
    }
   ],
   "source": [
    "##car_name information\n",
    "\n",
    "regex =  '[^\\d+]\\w+'\n",
    "\n",
    "df['car_title'].apply(lambda x : re.findall(regex, x))"
   ]
  },
  {
   "cell_type": "code",
   "execution_count": 25,
   "id": "4c129d98",
   "metadata": {},
   "outputs": [],
   "source": [
    "df['car_name'] = df['car_title'].apply(lambda x : re.findall(regex, x))"
   ]
  },
  {
   "cell_type": "code",
   "execution_count": 26,
   "id": "53cb5542",
   "metadata": {},
   "outputs": [
    {
     "data": {
      "text/html": [
       "<div>\n",
       "<style scoped>\n",
       "    .dataframe tbody tr th:only-of-type {\n",
       "        vertical-align: middle;\n",
       "    }\n",
       "\n",
       "    .dataframe tbody tr th {\n",
       "        vertical-align: top;\n",
       "    }\n",
       "\n",
       "    .dataframe thead th {\n",
       "        text-align: right;\n",
       "    }\n",
       "</style>\n",
       "<table border=\"1\" class=\"dataframe\">\n",
       "  <thead>\n",
       "    <tr style=\"text-align: right;\">\n",
       "      <th></th>\n",
       "      <th>car_title</th>\n",
       "      <th>engine_transmission</th>\n",
       "      <th>car_details</th>\n",
       "      <th>car_price</th>\n",
       "      <th>km_driven</th>\n",
       "      <th>ownership</th>\n",
       "      <th>fuel_type</th>\n",
       "      <th>Registration</th>\n",
       "      <th>car_model_year</th>\n",
       "      <th>car_name</th>\n",
       "    </tr>\n",
       "  </thead>\n",
       "  <tbody>\n",
       "    <tr>\n",
       "      <th>0</th>\n",
       "      <td>2015 Maruti Swift Dzire</td>\n",
       "      <td>VXI Manual</td>\n",
       "      <td>94,590 km\\n1st Owner\\nPetrol\\nTS-07</td>\n",
       "      <td>₹4,70,699</td>\n",
       "      <td>[94,590]</td>\n",
       "      <td>[1st]</td>\n",
       "      <td>[Petrol]</td>\n",
       "      <td>[TS-07]</td>\n",
       "      <td>[2015]</td>\n",
       "      <td>[ Maruti,  Swift,  Dzire]</td>\n",
       "    </tr>\n",
       "    <tr>\n",
       "      <th>1</th>\n",
       "      <td>2014 Hyundai Eon</td>\n",
       "      <td>ERA PLUS Manual</td>\n",
       "      <td>69,079 km\\n1st Owner\\nPetrol\\nTS-10</td>\n",
       "      <td>₹2,92,299</td>\n",
       "      <td>[69,079]</td>\n",
       "      <td>[1st]</td>\n",
       "      <td>[Petrol]</td>\n",
       "      <td>[TS-10]</td>\n",
       "      <td>[2014]</td>\n",
       "      <td>[ Hyundai,  Eon]</td>\n",
       "    </tr>\n",
       "    <tr>\n",
       "      <th>2</th>\n",
       "      <td>2018 Maruti Ertiga</td>\n",
       "      <td>ZDI PLUS SHVS Manual</td>\n",
       "      <td>68,297 km\\n1st Owner\\nDiesel\\nTS-07</td>\n",
       "      <td>₹9,93,899</td>\n",
       "      <td>[68,297]</td>\n",
       "      <td>[1st]</td>\n",
       "      <td>[Diesel]</td>\n",
       "      <td>[TS-07]</td>\n",
       "      <td>[2018]</td>\n",
       "      <td>[ Maruti,  Ertiga]</td>\n",
       "    </tr>\n",
       "    <tr>\n",
       "      <th>3</th>\n",
       "      <td>2020 Maruti Swift</td>\n",
       "      <td>VXI Manual</td>\n",
       "      <td>10,056 km\\n2nd Owner\\nPetrol\\nAP-39</td>\n",
       "      <td>₹6,43,499</td>\n",
       "      <td>[10,056]</td>\n",
       "      <td>[2nd]</td>\n",
       "      <td>[Petrol]</td>\n",
       "      <td>[AP-39]</td>\n",
       "      <td>[2020]</td>\n",
       "      <td>[ Maruti,  Swift]</td>\n",
       "    </tr>\n",
       "    <tr>\n",
       "      <th>4</th>\n",
       "      <td>2021 Mahindra Scorpio</td>\n",
       "      <td>S11 Manual</td>\n",
       "      <td>43,956 km\\n1st Owner\\nDiesel\\nAP-39</td>\n",
       "      <td>₹16,29,399</td>\n",
       "      <td>[43,956]</td>\n",
       "      <td>[1st]</td>\n",
       "      <td>[Diesel]</td>\n",
       "      <td>[AP-39]</td>\n",
       "      <td>[2021]</td>\n",
       "      <td>[ Mahindra,  Scorpio]</td>\n",
       "    </tr>\n",
       "  </tbody>\n",
       "</table>\n",
       "</div>"
      ],
      "text/plain": [
       "                 car_title   engine_transmission  \\\n",
       "0  2015 Maruti Swift Dzire            VXI Manual   \n",
       "1         2014 Hyundai Eon       ERA PLUS Manual   \n",
       "2       2018 Maruti Ertiga  ZDI PLUS SHVS Manual   \n",
       "3        2020 Maruti Swift            VXI Manual   \n",
       "4    2021 Mahindra Scorpio            S11 Manual   \n",
       "\n",
       "                           car_details   car_price km_driven ownership  \\\n",
       "0  94,590 km\\n1st Owner\\nPetrol\\nTS-07   ₹4,70,699  [94,590]     [1st]   \n",
       "1  69,079 km\\n1st Owner\\nPetrol\\nTS-10   ₹2,92,299  [69,079]     [1st]   \n",
       "2  68,297 km\\n1st Owner\\nDiesel\\nTS-07   ₹9,93,899  [68,297]     [1st]   \n",
       "3  10,056 km\\n2nd Owner\\nPetrol\\nAP-39   ₹6,43,499  [10,056]     [2nd]   \n",
       "4  43,956 km\\n1st Owner\\nDiesel\\nAP-39  ₹16,29,399  [43,956]     [1st]   \n",
       "\n",
       "  fuel_type Registration car_model_year                   car_name  \n",
       "0  [Petrol]      [TS-07]         [2015]  [ Maruti,  Swift,  Dzire]  \n",
       "1  [Petrol]      [TS-10]         [2014]           [ Hyundai,  Eon]  \n",
       "2  [Diesel]      [TS-07]         [2018]         [ Maruti,  Ertiga]  \n",
       "3  [Petrol]      [AP-39]         [2020]          [ Maruti,  Swift]  \n",
       "4  [Diesel]      [AP-39]         [2021]      [ Mahindra,  Scorpio]  "
      ]
     },
     "execution_count": 26,
     "metadata": {},
     "output_type": "execute_result"
    }
   ],
   "source": [
    "df.head()"
   ]
  },
  {
   "cell_type": "code",
   "execution_count": 27,
   "id": "ffb2902a",
   "metadata": {},
   "outputs": [
    {
     "data": {
      "text/plain": [
       "0              [Manual]\n",
       "1              [Manual]\n",
       "2              [Manual]\n",
       "3              [Manual]\n",
       "4              [Manual]\n",
       "             ...       \n",
       "510            [Manual]\n",
       "511            [Manual]\n",
       "512    [AMT, Automatic]\n",
       "513            [Manual]\n",
       "514         [Automatic]\n",
       "Name: engine_transmission, Length: 515, dtype: object"
      ]
     },
     "execution_count": 27,
     "metadata": {},
     "output_type": "execute_result"
    }
   ],
   "source": [
    "## transmission information\n",
    "\n",
    "regex ='(Manual|Automatic|AMT|MT)'\n",
    "\n",
    "df['engine_transmission'].apply(lambda x : re.findall(regex, x))"
   ]
  },
  {
   "cell_type": "code",
   "execution_count": 28,
   "id": "0d9782cd",
   "metadata": {},
   "outputs": [
    {
     "data": {
      "text/html": [
       "<div>\n",
       "<style scoped>\n",
       "    .dataframe tbody tr th:only-of-type {\n",
       "        vertical-align: middle;\n",
       "    }\n",
       "\n",
       "    .dataframe tbody tr th {\n",
       "        vertical-align: top;\n",
       "    }\n",
       "\n",
       "    .dataframe thead th {\n",
       "        text-align: right;\n",
       "    }\n",
       "</style>\n",
       "<table border=\"1\" class=\"dataframe\">\n",
       "  <thead>\n",
       "    <tr style=\"text-align: right;\">\n",
       "      <th></th>\n",
       "      <th>car_title</th>\n",
       "      <th>engine_transmission</th>\n",
       "      <th>car_details</th>\n",
       "      <th>car_price</th>\n",
       "      <th>km_driven</th>\n",
       "      <th>ownership</th>\n",
       "      <th>fuel_type</th>\n",
       "      <th>Registration</th>\n",
       "      <th>car_model_year</th>\n",
       "      <th>car_name</th>\n",
       "      <th>transmission</th>\n",
       "    </tr>\n",
       "  </thead>\n",
       "  <tbody>\n",
       "    <tr>\n",
       "      <th>0</th>\n",
       "      <td>2015 Maruti Swift Dzire</td>\n",
       "      <td>VXI Manual</td>\n",
       "      <td>94,590 km\\n1st Owner\\nPetrol\\nTS-07</td>\n",
       "      <td>₹4,70,699</td>\n",
       "      <td>[94,590]</td>\n",
       "      <td>[1st]</td>\n",
       "      <td>[Petrol]</td>\n",
       "      <td>[TS-07]</td>\n",
       "      <td>[2015]</td>\n",
       "      <td>[ Maruti,  Swift,  Dzire]</td>\n",
       "      <td>[Manual]</td>\n",
       "    </tr>\n",
       "    <tr>\n",
       "      <th>1</th>\n",
       "      <td>2014 Hyundai Eon</td>\n",
       "      <td>ERA PLUS Manual</td>\n",
       "      <td>69,079 km\\n1st Owner\\nPetrol\\nTS-10</td>\n",
       "      <td>₹2,92,299</td>\n",
       "      <td>[69,079]</td>\n",
       "      <td>[1st]</td>\n",
       "      <td>[Petrol]</td>\n",
       "      <td>[TS-10]</td>\n",
       "      <td>[2014]</td>\n",
       "      <td>[ Hyundai,  Eon]</td>\n",
       "      <td>[Manual]</td>\n",
       "    </tr>\n",
       "    <tr>\n",
       "      <th>2</th>\n",
       "      <td>2018 Maruti Ertiga</td>\n",
       "      <td>ZDI PLUS SHVS Manual</td>\n",
       "      <td>68,297 km\\n1st Owner\\nDiesel\\nTS-07</td>\n",
       "      <td>₹9,93,899</td>\n",
       "      <td>[68,297]</td>\n",
       "      <td>[1st]</td>\n",
       "      <td>[Diesel]</td>\n",
       "      <td>[TS-07]</td>\n",
       "      <td>[2018]</td>\n",
       "      <td>[ Maruti,  Ertiga]</td>\n",
       "      <td>[Manual]</td>\n",
       "    </tr>\n",
       "    <tr>\n",
       "      <th>3</th>\n",
       "      <td>2020 Maruti Swift</td>\n",
       "      <td>VXI Manual</td>\n",
       "      <td>10,056 km\\n2nd Owner\\nPetrol\\nAP-39</td>\n",
       "      <td>₹6,43,499</td>\n",
       "      <td>[10,056]</td>\n",
       "      <td>[2nd]</td>\n",
       "      <td>[Petrol]</td>\n",
       "      <td>[AP-39]</td>\n",
       "      <td>[2020]</td>\n",
       "      <td>[ Maruti,  Swift]</td>\n",
       "      <td>[Manual]</td>\n",
       "    </tr>\n",
       "    <tr>\n",
       "      <th>4</th>\n",
       "      <td>2021 Mahindra Scorpio</td>\n",
       "      <td>S11 Manual</td>\n",
       "      <td>43,956 km\\n1st Owner\\nDiesel\\nAP-39</td>\n",
       "      <td>₹16,29,399</td>\n",
       "      <td>[43,956]</td>\n",
       "      <td>[1st]</td>\n",
       "      <td>[Diesel]</td>\n",
       "      <td>[AP-39]</td>\n",
       "      <td>[2021]</td>\n",
       "      <td>[ Mahindra,  Scorpio]</td>\n",
       "      <td>[Manual]</td>\n",
       "    </tr>\n",
       "  </tbody>\n",
       "</table>\n",
       "</div>"
      ],
      "text/plain": [
       "                 car_title   engine_transmission  \\\n",
       "0  2015 Maruti Swift Dzire            VXI Manual   \n",
       "1         2014 Hyundai Eon       ERA PLUS Manual   \n",
       "2       2018 Maruti Ertiga  ZDI PLUS SHVS Manual   \n",
       "3        2020 Maruti Swift            VXI Manual   \n",
       "4    2021 Mahindra Scorpio            S11 Manual   \n",
       "\n",
       "                           car_details   car_price km_driven ownership  \\\n",
       "0  94,590 km\\n1st Owner\\nPetrol\\nTS-07   ₹4,70,699  [94,590]     [1st]   \n",
       "1  69,079 km\\n1st Owner\\nPetrol\\nTS-10   ₹2,92,299  [69,079]     [1st]   \n",
       "2  68,297 km\\n1st Owner\\nDiesel\\nTS-07   ₹9,93,899  [68,297]     [1st]   \n",
       "3  10,056 km\\n2nd Owner\\nPetrol\\nAP-39   ₹6,43,499  [10,056]     [2nd]   \n",
       "4  43,956 km\\n1st Owner\\nDiesel\\nAP-39  ₹16,29,399  [43,956]     [1st]   \n",
       "\n",
       "  fuel_type Registration car_model_year                   car_name  \\\n",
       "0  [Petrol]      [TS-07]         [2015]  [ Maruti,  Swift,  Dzire]   \n",
       "1  [Petrol]      [TS-10]         [2014]           [ Hyundai,  Eon]   \n",
       "2  [Diesel]      [TS-07]         [2018]         [ Maruti,  Ertiga]   \n",
       "3  [Petrol]      [AP-39]         [2020]          [ Maruti,  Swift]   \n",
       "4  [Diesel]      [AP-39]         [2021]      [ Mahindra,  Scorpio]   \n",
       "\n",
       "  transmission  \n",
       "0     [Manual]  \n",
       "1     [Manual]  \n",
       "2     [Manual]  \n",
       "3     [Manual]  \n",
       "4     [Manual]  "
      ]
     },
     "execution_count": 28,
     "metadata": {},
     "output_type": "execute_result"
    }
   ],
   "source": [
    "df['transmission'] = df['engine_transmission'].apply(lambda x : re.findall(regex, x))\n",
    "df.head()"
   ]
  },
  {
   "cell_type": "markdown",
   "id": "777c2011",
   "metadata": {},
   "source": [
    "## cleaning the data"
   ]
  },
  {
   "cell_type": "code",
   "execution_count": 29,
   "id": "74cf3359",
   "metadata": {},
   "outputs": [
    {
     "data": {
      "text/plain": [
       "(515, 11)"
      ]
     },
     "execution_count": 29,
     "metadata": {},
     "output_type": "execute_result"
    }
   ],
   "source": [
    "df.shape"
   ]
  },
  {
   "cell_type": "code",
   "execution_count": 30,
   "id": "a0927b61",
   "metadata": {},
   "outputs": [
    {
     "name": "stdout",
     "output_type": "stream",
     "text": [
      "<class 'pandas.core.frame.DataFrame'>\n",
      "RangeIndex: 515 entries, 0 to 514\n",
      "Data columns (total 11 columns):\n",
      " #   Column               Non-Null Count  Dtype \n",
      "---  ------               --------------  ----- \n",
      " 0   car_title            515 non-null    object\n",
      " 1   engine_transmission  515 non-null    object\n",
      " 2   car_details          515 non-null    object\n",
      " 3   car_price            515 non-null    object\n",
      " 4   km_driven            515 non-null    object\n",
      " 5   ownership            515 non-null    object\n",
      " 6   fuel_type            515 non-null    object\n",
      " 7   Registration         515 non-null    object\n",
      " 8   car_model_year       515 non-null    object\n",
      " 9   car_name             515 non-null    object\n",
      " 10  transmission         515 non-null    object\n",
      "dtypes: object(11)\n",
      "memory usage: 44.4+ KB\n"
     ]
    }
   ],
   "source": [
    "df.info()"
   ]
  },
  {
   "cell_type": "code",
   "execution_count": 31,
   "id": "bced10f9",
   "metadata": {},
   "outputs": [
    {
     "data": {
      "text/plain": [
       "car_title              0\n",
       "engine_transmission    0\n",
       "car_details            0\n",
       "car_price              0\n",
       "km_driven              0\n",
       "ownership              0\n",
       "fuel_type              0\n",
       "Registration           0\n",
       "car_model_year         0\n",
       "car_name               0\n",
       "transmission           0\n",
       "dtype: int64"
      ]
     },
     "execution_count": 31,
     "metadata": {},
     "output_type": "execute_result"
    }
   ],
   "source": [
    "# Missing Values\n",
    "\n",
    "df.isnull().sum()"
   ]
  },
  {
   "cell_type": "code",
   "execution_count": 32,
   "id": "76f8d97e",
   "metadata": {},
   "outputs": [
    {
     "data": {
      "text/html": [
       "<div>\n",
       "<style scoped>\n",
       "    .dataframe tbody tr th:only-of-type {\n",
       "        vertical-align: middle;\n",
       "    }\n",
       "\n",
       "    .dataframe tbody tr th {\n",
       "        vertical-align: top;\n",
       "    }\n",
       "\n",
       "    .dataframe thead th {\n",
       "        text-align: right;\n",
       "    }\n",
       "</style>\n",
       "<table border=\"1\" class=\"dataframe\">\n",
       "  <thead>\n",
       "    <tr style=\"text-align: right;\">\n",
       "      <th></th>\n",
       "      <th>car_title</th>\n",
       "      <th>engine_transmission</th>\n",
       "      <th>car_details</th>\n",
       "      <th>car_price</th>\n",
       "      <th>km_driven</th>\n",
       "      <th>ownership</th>\n",
       "      <th>fuel_type</th>\n",
       "      <th>Registration</th>\n",
       "      <th>car_model_year</th>\n",
       "      <th>car_name</th>\n",
       "      <th>transmission</th>\n",
       "    </tr>\n",
       "  </thead>\n",
       "  <tbody>\n",
       "    <tr>\n",
       "      <th>0</th>\n",
       "      <td>2015 Maruti Swift Dzire</td>\n",
       "      <td>VXI Manual</td>\n",
       "      <td>94,590 km\\n1st Owner\\nPetrol\\nTS-07</td>\n",
       "      <td>₹4,70,699</td>\n",
       "      <td>[94,590]</td>\n",
       "      <td>[1st]</td>\n",
       "      <td>[Petrol]</td>\n",
       "      <td>[TS-07]</td>\n",
       "      <td>[2015]</td>\n",
       "      <td>[ Maruti,  Swift,  Dzire]</td>\n",
       "      <td>[Manual]</td>\n",
       "    </tr>\n",
       "    <tr>\n",
       "      <th>1</th>\n",
       "      <td>2014 Hyundai Eon</td>\n",
       "      <td>ERA PLUS Manual</td>\n",
       "      <td>69,079 km\\n1st Owner\\nPetrol\\nTS-10</td>\n",
       "      <td>₹2,92,299</td>\n",
       "      <td>[69,079]</td>\n",
       "      <td>[1st]</td>\n",
       "      <td>[Petrol]</td>\n",
       "      <td>[TS-10]</td>\n",
       "      <td>[2014]</td>\n",
       "      <td>[ Hyundai,  Eon]</td>\n",
       "      <td>[Manual]</td>\n",
       "    </tr>\n",
       "    <tr>\n",
       "      <th>2</th>\n",
       "      <td>2018 Maruti Ertiga</td>\n",
       "      <td>ZDI PLUS SHVS Manual</td>\n",
       "      <td>68,297 km\\n1st Owner\\nDiesel\\nTS-07</td>\n",
       "      <td>₹9,93,899</td>\n",
       "      <td>[68,297]</td>\n",
       "      <td>[1st]</td>\n",
       "      <td>[Diesel]</td>\n",
       "      <td>[TS-07]</td>\n",
       "      <td>[2018]</td>\n",
       "      <td>[ Maruti,  Ertiga]</td>\n",
       "      <td>[Manual]</td>\n",
       "    </tr>\n",
       "    <tr>\n",
       "      <th>3</th>\n",
       "      <td>2020 Maruti Swift</td>\n",
       "      <td>VXI Manual</td>\n",
       "      <td>10,056 km\\n2nd Owner\\nPetrol\\nAP-39</td>\n",
       "      <td>₹6,43,499</td>\n",
       "      <td>[10,056]</td>\n",
       "      <td>[2nd]</td>\n",
       "      <td>[Petrol]</td>\n",
       "      <td>[AP-39]</td>\n",
       "      <td>[2020]</td>\n",
       "      <td>[ Maruti,  Swift]</td>\n",
       "      <td>[Manual]</td>\n",
       "    </tr>\n",
       "    <tr>\n",
       "      <th>4</th>\n",
       "      <td>2021 Mahindra Scorpio</td>\n",
       "      <td>S11 Manual</td>\n",
       "      <td>43,956 km\\n1st Owner\\nDiesel\\nAP-39</td>\n",
       "      <td>₹16,29,399</td>\n",
       "      <td>[43,956]</td>\n",
       "      <td>[1st]</td>\n",
       "      <td>[Diesel]</td>\n",
       "      <td>[AP-39]</td>\n",
       "      <td>[2021]</td>\n",
       "      <td>[ Mahindra,  Scorpio]</td>\n",
       "      <td>[Manual]</td>\n",
       "    </tr>\n",
       "  </tbody>\n",
       "</table>\n",
       "</div>"
      ],
      "text/plain": [
       "                 car_title   engine_transmission  \\\n",
       "0  2015 Maruti Swift Dzire            VXI Manual   \n",
       "1         2014 Hyundai Eon       ERA PLUS Manual   \n",
       "2       2018 Maruti Ertiga  ZDI PLUS SHVS Manual   \n",
       "3        2020 Maruti Swift            VXI Manual   \n",
       "4    2021 Mahindra Scorpio            S11 Manual   \n",
       "\n",
       "                           car_details   car_price km_driven ownership  \\\n",
       "0  94,590 km\\n1st Owner\\nPetrol\\nTS-07   ₹4,70,699  [94,590]     [1st]   \n",
       "1  69,079 km\\n1st Owner\\nPetrol\\nTS-10   ₹2,92,299  [69,079]     [1st]   \n",
       "2  68,297 km\\n1st Owner\\nDiesel\\nTS-07   ₹9,93,899  [68,297]     [1st]   \n",
       "3  10,056 km\\n2nd Owner\\nPetrol\\nAP-39   ₹6,43,499  [10,056]     [2nd]   \n",
       "4  43,956 km\\n1st Owner\\nDiesel\\nAP-39  ₹16,29,399  [43,956]     [1st]   \n",
       "\n",
       "  fuel_type Registration car_model_year                   car_name  \\\n",
       "0  [Petrol]      [TS-07]         [2015]  [ Maruti,  Swift,  Dzire]   \n",
       "1  [Petrol]      [TS-10]         [2014]           [ Hyundai,  Eon]   \n",
       "2  [Diesel]      [TS-07]         [2018]         [ Maruti,  Ertiga]   \n",
       "3  [Petrol]      [AP-39]         [2020]          [ Maruti,  Swift]   \n",
       "4  [Diesel]      [AP-39]         [2021]      [ Mahindra,  Scorpio]   \n",
       "\n",
       "  transmission  \n",
       "0     [Manual]  \n",
       "1     [Manual]  \n",
       "2     [Manual]  \n",
       "3     [Manual]  \n",
       "4     [Manual]  "
      ]
     },
     "execution_count": 32,
     "metadata": {},
     "output_type": "execute_result"
    }
   ],
   "source": [
    "df.head()"
   ]
  },
  {
   "cell_type": "code",
   "execution_count": 33,
   "id": "7d931070",
   "metadata": {},
   "outputs": [],
   "source": [
    "df.km_driven = df.km_driven.apply(lambda x : ''.join(x))\n",
    "df.fuel_type = df.fuel_type.apply(lambda x : ''.join(x))\n",
    "df.ownership = df.ownership.apply(lambda x : ''.join(x))\n",
    "df.Registration = df.Registration.apply(lambda x : ''.join(x))\n",
    "df.car_model_year = df.car_model_year.apply(lambda x : ''.join(x))\n",
    "df.car_name = df.car_name.apply(lambda x : ''.join(x))\n",
    "df.transmission = df.transmission.apply(lambda x : ''.join(x))"
   ]
  },
  {
   "cell_type": "code",
   "execution_count": 34,
   "id": "5ed8ecc8",
   "metadata": {},
   "outputs": [
    {
     "data": {
      "text/html": [
       "<div>\n",
       "<style scoped>\n",
       "    .dataframe tbody tr th:only-of-type {\n",
       "        vertical-align: middle;\n",
       "    }\n",
       "\n",
       "    .dataframe tbody tr th {\n",
       "        vertical-align: top;\n",
       "    }\n",
       "\n",
       "    .dataframe thead th {\n",
       "        text-align: right;\n",
       "    }\n",
       "</style>\n",
       "<table border=\"1\" class=\"dataframe\">\n",
       "  <thead>\n",
       "    <tr style=\"text-align: right;\">\n",
       "      <th></th>\n",
       "      <th>car_title</th>\n",
       "      <th>engine_transmission</th>\n",
       "      <th>car_details</th>\n",
       "      <th>car_price</th>\n",
       "      <th>km_driven</th>\n",
       "      <th>ownership</th>\n",
       "      <th>fuel_type</th>\n",
       "      <th>Registration</th>\n",
       "      <th>car_model_year</th>\n",
       "      <th>car_name</th>\n",
       "      <th>transmission</th>\n",
       "    </tr>\n",
       "  </thead>\n",
       "  <tbody>\n",
       "    <tr>\n",
       "      <th>0</th>\n",
       "      <td>2015 Maruti Swift Dzire</td>\n",
       "      <td>VXI Manual</td>\n",
       "      <td>94,590 km\\n1st Owner\\nPetrol\\nTS-07</td>\n",
       "      <td>₹4,70,699</td>\n",
       "      <td>94,590</td>\n",
       "      <td>1st</td>\n",
       "      <td>Petrol</td>\n",
       "      <td>TS-07</td>\n",
       "      <td>2015</td>\n",
       "      <td>Maruti Swift Dzire</td>\n",
       "      <td>Manual</td>\n",
       "    </tr>\n",
       "    <tr>\n",
       "      <th>1</th>\n",
       "      <td>2014 Hyundai Eon</td>\n",
       "      <td>ERA PLUS Manual</td>\n",
       "      <td>69,079 km\\n1st Owner\\nPetrol\\nTS-10</td>\n",
       "      <td>₹2,92,299</td>\n",
       "      <td>69,079</td>\n",
       "      <td>1st</td>\n",
       "      <td>Petrol</td>\n",
       "      <td>TS-10</td>\n",
       "      <td>2014</td>\n",
       "      <td>Hyundai Eon</td>\n",
       "      <td>Manual</td>\n",
       "    </tr>\n",
       "    <tr>\n",
       "      <th>2</th>\n",
       "      <td>2018 Maruti Ertiga</td>\n",
       "      <td>ZDI PLUS SHVS Manual</td>\n",
       "      <td>68,297 km\\n1st Owner\\nDiesel\\nTS-07</td>\n",
       "      <td>₹9,93,899</td>\n",
       "      <td>68,297</td>\n",
       "      <td>1st</td>\n",
       "      <td>Diesel</td>\n",
       "      <td>TS-07</td>\n",
       "      <td>2018</td>\n",
       "      <td>Maruti Ertiga</td>\n",
       "      <td>Manual</td>\n",
       "    </tr>\n",
       "    <tr>\n",
       "      <th>3</th>\n",
       "      <td>2020 Maruti Swift</td>\n",
       "      <td>VXI Manual</td>\n",
       "      <td>10,056 km\\n2nd Owner\\nPetrol\\nAP-39</td>\n",
       "      <td>₹6,43,499</td>\n",
       "      <td>10,056</td>\n",
       "      <td>2nd</td>\n",
       "      <td>Petrol</td>\n",
       "      <td>AP-39</td>\n",
       "      <td>2020</td>\n",
       "      <td>Maruti Swift</td>\n",
       "      <td>Manual</td>\n",
       "    </tr>\n",
       "    <tr>\n",
       "      <th>4</th>\n",
       "      <td>2021 Mahindra Scorpio</td>\n",
       "      <td>S11 Manual</td>\n",
       "      <td>43,956 km\\n1st Owner\\nDiesel\\nAP-39</td>\n",
       "      <td>₹16,29,399</td>\n",
       "      <td>43,956</td>\n",
       "      <td>1st</td>\n",
       "      <td>Diesel</td>\n",
       "      <td>AP-39</td>\n",
       "      <td>2021</td>\n",
       "      <td>Mahindra Scorpio</td>\n",
       "      <td>Manual</td>\n",
       "    </tr>\n",
       "  </tbody>\n",
       "</table>\n",
       "</div>"
      ],
      "text/plain": [
       "                 car_title   engine_transmission  \\\n",
       "0  2015 Maruti Swift Dzire            VXI Manual   \n",
       "1         2014 Hyundai Eon       ERA PLUS Manual   \n",
       "2       2018 Maruti Ertiga  ZDI PLUS SHVS Manual   \n",
       "3        2020 Maruti Swift            VXI Manual   \n",
       "4    2021 Mahindra Scorpio            S11 Manual   \n",
       "\n",
       "                           car_details   car_price km_driven ownership  \\\n",
       "0  94,590 km\\n1st Owner\\nPetrol\\nTS-07   ₹4,70,699    94,590       1st   \n",
       "1  69,079 km\\n1st Owner\\nPetrol\\nTS-10   ₹2,92,299    69,079       1st   \n",
       "2  68,297 km\\n1st Owner\\nDiesel\\nTS-07   ₹9,93,899    68,297       1st   \n",
       "3  10,056 km\\n2nd Owner\\nPetrol\\nAP-39   ₹6,43,499    10,056       2nd   \n",
       "4  43,956 km\\n1st Owner\\nDiesel\\nAP-39  ₹16,29,399    43,956       1st   \n",
       "\n",
       "  fuel_type Registration car_model_year             car_name transmission  \n",
       "0    Petrol        TS-07           2015   Maruti Swift Dzire       Manual  \n",
       "1    Petrol        TS-10           2014          Hyundai Eon       Manual  \n",
       "2    Diesel        TS-07           2018        Maruti Ertiga       Manual  \n",
       "3    Petrol        AP-39           2020         Maruti Swift       Manual  \n",
       "4    Diesel        AP-39           2021     Mahindra Scorpio       Manual  "
      ]
     },
     "execution_count": 34,
     "metadata": {},
     "output_type": "execute_result"
    }
   ],
   "source": [
    "df.head()"
   ]
  },
  {
   "cell_type": "code",
   "execution_count": 35,
   "id": "bab7c1fb",
   "metadata": {},
   "outputs": [
    {
     "data": {
      "text/plain": [
       "0          [2015 Maruti]\n",
       "1         [2014 Hyundai]\n",
       "2          [2018 Maruti]\n",
       "3          [2020 Maruti]\n",
       "4        [2021 Mahindra]\n",
       "             ...        \n",
       "510       [2021 Renault]\n",
       "511    [2017 Volkswagen]\n",
       "512        [2018 Maruti]\n",
       "513          [2019 Ford]\n",
       "514       [2017 Hyundai]\n",
       "Name: car_title, Length: 515, dtype: object"
      ]
     },
     "execution_count": 35,
     "metadata": {},
     "output_type": "execute_result"
    }
   ],
   "source": [
    "df['car_title'].apply(lambda x : re.findall('\\A\\w+\\s\\w+', x))"
   ]
  },
  {
   "cell_type": "code",
   "execution_count": 43,
   "id": "9fb22f23",
   "metadata": {},
   "outputs": [
    {
     "data": {
      "text/plain": [
       "0          [2015 Maruti]\n",
       "1         [2014 Hyundai]\n",
       "2          [2018 Maruti]\n",
       "3          [2020 Maruti]\n",
       "4        [2021 Mahindra]\n",
       "             ...        \n",
       "510       [2021 Renault]\n",
       "511    [2017 Volkswagen]\n",
       "512        [2018 Maruti]\n",
       "513          [2019 Ford]\n",
       "514       [2017 Hyundai]\n",
       "Name: car_title, Length: 515, dtype: object"
      ]
     },
     "execution_count": 43,
     "metadata": {},
     "output_type": "execute_result"
    }
   ],
   "source": [
    "## brand information\n",
    "df['car_title'].apply(lambda x : re.findall('\\A\\w+\\s\\w+', x))"
   ]
  },
  {
   "cell_type": "code",
   "execution_count": 44,
   "id": "0458d20a",
   "metadata": {},
   "outputs": [],
   "source": [
    "df[\"brand0\"]=df['car_title'].apply(lambda x : re.findall('\\A\\w+\\s\\w+', x))"
   ]
  },
  {
   "cell_type": "code",
   "execution_count": 45,
   "id": "2d29dea0",
   "metadata": {},
   "outputs": [
    {
     "data": {
      "text/html": [
       "<div>\n",
       "<style scoped>\n",
       "    .dataframe tbody tr th:only-of-type {\n",
       "        vertical-align: middle;\n",
       "    }\n",
       "\n",
       "    .dataframe tbody tr th {\n",
       "        vertical-align: top;\n",
       "    }\n",
       "\n",
       "    .dataframe thead th {\n",
       "        text-align: right;\n",
       "    }\n",
       "</style>\n",
       "<table border=\"1\" class=\"dataframe\">\n",
       "  <thead>\n",
       "    <tr style=\"text-align: right;\">\n",
       "      <th></th>\n",
       "      <th>car_title</th>\n",
       "      <th>engine_transmission</th>\n",
       "      <th>car_details</th>\n",
       "      <th>car_price</th>\n",
       "      <th>km_driven</th>\n",
       "      <th>ownership</th>\n",
       "      <th>fuel_type</th>\n",
       "      <th>Registration</th>\n",
       "      <th>car_model_year</th>\n",
       "      <th>car_name</th>\n",
       "      <th>transmission</th>\n",
       "      <th>brand1</th>\n",
       "      <th>brand0</th>\n",
       "    </tr>\n",
       "  </thead>\n",
       "  <tbody>\n",
       "    <tr>\n",
       "      <th>0</th>\n",
       "      <td>2015 Maruti Swift Dzire</td>\n",
       "      <td>VXI Manual</td>\n",
       "      <td>94,590 km\\n1st Owner\\nPetrol\\nTS-07</td>\n",
       "      <td>₹4,70,699</td>\n",
       "      <td>94,590</td>\n",
       "      <td>1st</td>\n",
       "      <td>Petrol</td>\n",
       "      <td>TS-07</td>\n",
       "      <td>2015</td>\n",
       "      <td>Maruti Swift Dzire</td>\n",
       "      <td>Manual</td>\n",
       "      <td>[2015 Maruti]</td>\n",
       "      <td>[2015 Maruti]</td>\n",
       "    </tr>\n",
       "    <tr>\n",
       "      <th>1</th>\n",
       "      <td>2014 Hyundai Eon</td>\n",
       "      <td>ERA PLUS Manual</td>\n",
       "      <td>69,079 km\\n1st Owner\\nPetrol\\nTS-10</td>\n",
       "      <td>₹2,92,299</td>\n",
       "      <td>69,079</td>\n",
       "      <td>1st</td>\n",
       "      <td>Petrol</td>\n",
       "      <td>TS-10</td>\n",
       "      <td>2014</td>\n",
       "      <td>Hyundai Eon</td>\n",
       "      <td>Manual</td>\n",
       "      <td>[2014 Hyundai]</td>\n",
       "      <td>[2014 Hyundai]</td>\n",
       "    </tr>\n",
       "    <tr>\n",
       "      <th>2</th>\n",
       "      <td>2018 Maruti Ertiga</td>\n",
       "      <td>ZDI PLUS SHVS Manual</td>\n",
       "      <td>68,297 km\\n1st Owner\\nDiesel\\nTS-07</td>\n",
       "      <td>₹9,93,899</td>\n",
       "      <td>68,297</td>\n",
       "      <td>1st</td>\n",
       "      <td>Diesel</td>\n",
       "      <td>TS-07</td>\n",
       "      <td>2018</td>\n",
       "      <td>Maruti Ertiga</td>\n",
       "      <td>Manual</td>\n",
       "      <td>[2018 Maruti]</td>\n",
       "      <td>[2018 Maruti]</td>\n",
       "    </tr>\n",
       "    <tr>\n",
       "      <th>3</th>\n",
       "      <td>2020 Maruti Swift</td>\n",
       "      <td>VXI Manual</td>\n",
       "      <td>10,056 km\\n2nd Owner\\nPetrol\\nAP-39</td>\n",
       "      <td>₹6,43,499</td>\n",
       "      <td>10,056</td>\n",
       "      <td>2nd</td>\n",
       "      <td>Petrol</td>\n",
       "      <td>AP-39</td>\n",
       "      <td>2020</td>\n",
       "      <td>Maruti Swift</td>\n",
       "      <td>Manual</td>\n",
       "      <td>[2020 Maruti]</td>\n",
       "      <td>[2020 Maruti]</td>\n",
       "    </tr>\n",
       "    <tr>\n",
       "      <th>4</th>\n",
       "      <td>2021 Mahindra Scorpio</td>\n",
       "      <td>S11 Manual</td>\n",
       "      <td>43,956 km\\n1st Owner\\nDiesel\\nAP-39</td>\n",
       "      <td>₹16,29,399</td>\n",
       "      <td>43,956</td>\n",
       "      <td>1st</td>\n",
       "      <td>Diesel</td>\n",
       "      <td>AP-39</td>\n",
       "      <td>2021</td>\n",
       "      <td>Mahindra Scorpio</td>\n",
       "      <td>Manual</td>\n",
       "      <td>[2021 Mahindra]</td>\n",
       "      <td>[2021 Mahindra]</td>\n",
       "    </tr>\n",
       "  </tbody>\n",
       "</table>\n",
       "</div>"
      ],
      "text/plain": [
       "                 car_title   engine_transmission  \\\n",
       "0  2015 Maruti Swift Dzire            VXI Manual   \n",
       "1         2014 Hyundai Eon       ERA PLUS Manual   \n",
       "2       2018 Maruti Ertiga  ZDI PLUS SHVS Manual   \n",
       "3        2020 Maruti Swift            VXI Manual   \n",
       "4    2021 Mahindra Scorpio            S11 Manual   \n",
       "\n",
       "                           car_details   car_price km_driven ownership  \\\n",
       "0  94,590 km\\n1st Owner\\nPetrol\\nTS-07   ₹4,70,699    94,590       1st   \n",
       "1  69,079 km\\n1st Owner\\nPetrol\\nTS-10   ₹2,92,299    69,079       1st   \n",
       "2  68,297 km\\n1st Owner\\nDiesel\\nTS-07   ₹9,93,899    68,297       1st   \n",
       "3  10,056 km\\n2nd Owner\\nPetrol\\nAP-39   ₹6,43,499    10,056       2nd   \n",
       "4  43,956 km\\n1st Owner\\nDiesel\\nAP-39  ₹16,29,399    43,956       1st   \n",
       "\n",
       "  fuel_type Registration car_model_year             car_name transmission  \\\n",
       "0    Petrol        TS-07           2015   Maruti Swift Dzire       Manual   \n",
       "1    Petrol        TS-10           2014          Hyundai Eon       Manual   \n",
       "2    Diesel        TS-07           2018        Maruti Ertiga       Manual   \n",
       "3    Petrol        AP-39           2020         Maruti Swift       Manual   \n",
       "4    Diesel        AP-39           2021     Mahindra Scorpio       Manual   \n",
       "\n",
       "            brand1           brand0  \n",
       "0    [2015 Maruti]    [2015 Maruti]  \n",
       "1   [2014 Hyundai]   [2014 Hyundai]  \n",
       "2    [2018 Maruti]    [2018 Maruti]  \n",
       "3    [2020 Maruti]    [2020 Maruti]  \n",
       "4  [2021 Mahindra]  [2021 Mahindra]  "
      ]
     },
     "execution_count": 45,
     "metadata": {},
     "output_type": "execute_result"
    }
   ],
   "source": [
    "df.head()"
   ]
  },
  {
   "cell_type": "code",
   "execution_count": 51,
   "id": "36f0360b",
   "metadata": {},
   "outputs": [],
   "source": [
    "df.brand0 = df.brand0.apply(lambda x : ''.join(x))"
   ]
  },
  {
   "cell_type": "code",
   "execution_count": 52,
   "id": "766592f2",
   "metadata": {},
   "outputs": [
    {
     "data": {
      "text/html": [
       "<div>\n",
       "<style scoped>\n",
       "    .dataframe tbody tr th:only-of-type {\n",
       "        vertical-align: middle;\n",
       "    }\n",
       "\n",
       "    .dataframe tbody tr th {\n",
       "        vertical-align: top;\n",
       "    }\n",
       "\n",
       "    .dataframe thead th {\n",
       "        text-align: right;\n",
       "    }\n",
       "</style>\n",
       "<table border=\"1\" class=\"dataframe\">\n",
       "  <thead>\n",
       "    <tr style=\"text-align: right;\">\n",
       "      <th></th>\n",
       "      <th>car_title</th>\n",
       "      <th>engine_transmission</th>\n",
       "      <th>car_details</th>\n",
       "      <th>car_price</th>\n",
       "      <th>km_driven</th>\n",
       "      <th>ownership</th>\n",
       "      <th>fuel_type</th>\n",
       "      <th>Registration</th>\n",
       "      <th>car_model_year</th>\n",
       "      <th>car_name</th>\n",
       "      <th>transmission</th>\n",
       "      <th>brand1</th>\n",
       "      <th>brand0</th>\n",
       "    </tr>\n",
       "  </thead>\n",
       "  <tbody>\n",
       "    <tr>\n",
       "      <th>0</th>\n",
       "      <td>2015 Maruti Swift Dzire</td>\n",
       "      <td>VXI Manual</td>\n",
       "      <td>94,590 km\\n1st Owner\\nPetrol\\nTS-07</td>\n",
       "      <td>₹4,70,699</td>\n",
       "      <td>94,590</td>\n",
       "      <td>1st</td>\n",
       "      <td>Petrol</td>\n",
       "      <td>TS-07</td>\n",
       "      <td>2015</td>\n",
       "      <td>Maruti Swift Dzire</td>\n",
       "      <td>Manual</td>\n",
       "      <td>[2015 Maruti]</td>\n",
       "      <td>2015 Maruti</td>\n",
       "    </tr>\n",
       "    <tr>\n",
       "      <th>1</th>\n",
       "      <td>2014 Hyundai Eon</td>\n",
       "      <td>ERA PLUS Manual</td>\n",
       "      <td>69,079 km\\n1st Owner\\nPetrol\\nTS-10</td>\n",
       "      <td>₹2,92,299</td>\n",
       "      <td>69,079</td>\n",
       "      <td>1st</td>\n",
       "      <td>Petrol</td>\n",
       "      <td>TS-10</td>\n",
       "      <td>2014</td>\n",
       "      <td>Hyundai Eon</td>\n",
       "      <td>Manual</td>\n",
       "      <td>[2014 Hyundai]</td>\n",
       "      <td>2014 Hyundai</td>\n",
       "    </tr>\n",
       "    <tr>\n",
       "      <th>2</th>\n",
       "      <td>2018 Maruti Ertiga</td>\n",
       "      <td>ZDI PLUS SHVS Manual</td>\n",
       "      <td>68,297 km\\n1st Owner\\nDiesel\\nTS-07</td>\n",
       "      <td>₹9,93,899</td>\n",
       "      <td>68,297</td>\n",
       "      <td>1st</td>\n",
       "      <td>Diesel</td>\n",
       "      <td>TS-07</td>\n",
       "      <td>2018</td>\n",
       "      <td>Maruti Ertiga</td>\n",
       "      <td>Manual</td>\n",
       "      <td>[2018 Maruti]</td>\n",
       "      <td>2018 Maruti</td>\n",
       "    </tr>\n",
       "    <tr>\n",
       "      <th>3</th>\n",
       "      <td>2020 Maruti Swift</td>\n",
       "      <td>VXI Manual</td>\n",
       "      <td>10,056 km\\n2nd Owner\\nPetrol\\nAP-39</td>\n",
       "      <td>₹6,43,499</td>\n",
       "      <td>10,056</td>\n",
       "      <td>2nd</td>\n",
       "      <td>Petrol</td>\n",
       "      <td>AP-39</td>\n",
       "      <td>2020</td>\n",
       "      <td>Maruti Swift</td>\n",
       "      <td>Manual</td>\n",
       "      <td>[2020 Maruti]</td>\n",
       "      <td>2020 Maruti</td>\n",
       "    </tr>\n",
       "    <tr>\n",
       "      <th>4</th>\n",
       "      <td>2021 Mahindra Scorpio</td>\n",
       "      <td>S11 Manual</td>\n",
       "      <td>43,956 km\\n1st Owner\\nDiesel\\nAP-39</td>\n",
       "      <td>₹16,29,399</td>\n",
       "      <td>43,956</td>\n",
       "      <td>1st</td>\n",
       "      <td>Diesel</td>\n",
       "      <td>AP-39</td>\n",
       "      <td>2021</td>\n",
       "      <td>Mahindra Scorpio</td>\n",
       "      <td>Manual</td>\n",
       "      <td>[2021 Mahindra]</td>\n",
       "      <td>2021 Mahindra</td>\n",
       "    </tr>\n",
       "  </tbody>\n",
       "</table>\n",
       "</div>"
      ],
      "text/plain": [
       "                 car_title   engine_transmission  \\\n",
       "0  2015 Maruti Swift Dzire            VXI Manual   \n",
       "1         2014 Hyundai Eon       ERA PLUS Manual   \n",
       "2       2018 Maruti Ertiga  ZDI PLUS SHVS Manual   \n",
       "3        2020 Maruti Swift            VXI Manual   \n",
       "4    2021 Mahindra Scorpio            S11 Manual   \n",
       "\n",
       "                           car_details   car_price km_driven ownership  \\\n",
       "0  94,590 km\\n1st Owner\\nPetrol\\nTS-07   ₹4,70,699    94,590       1st   \n",
       "1  69,079 km\\n1st Owner\\nPetrol\\nTS-10   ₹2,92,299    69,079       1st   \n",
       "2  68,297 km\\n1st Owner\\nDiesel\\nTS-07   ₹9,93,899    68,297       1st   \n",
       "3  10,056 km\\n2nd Owner\\nPetrol\\nAP-39   ₹6,43,499    10,056       2nd   \n",
       "4  43,956 km\\n1st Owner\\nDiesel\\nAP-39  ₹16,29,399    43,956       1st   \n",
       "\n",
       "  fuel_type Registration car_model_year             car_name transmission  \\\n",
       "0    Petrol        TS-07           2015   Maruti Swift Dzire       Manual   \n",
       "1    Petrol        TS-10           2014          Hyundai Eon       Manual   \n",
       "2    Diesel        TS-07           2018        Maruti Ertiga       Manual   \n",
       "3    Petrol        AP-39           2020         Maruti Swift       Manual   \n",
       "4    Diesel        AP-39           2021     Mahindra Scorpio       Manual   \n",
       "\n",
       "            brand1         brand0  \n",
       "0    [2015 Maruti]    2015 Maruti  \n",
       "1   [2014 Hyundai]   2014 Hyundai  \n",
       "2    [2018 Maruti]    2018 Maruti  \n",
       "3    [2020 Maruti]    2020 Maruti  \n",
       "4  [2021 Mahindra]  2021 Mahindra  "
      ]
     },
     "execution_count": 52,
     "metadata": {},
     "output_type": "execute_result"
    }
   ],
   "source": [
    "df.head()"
   ]
  },
  {
   "cell_type": "code",
   "execution_count": 53,
   "id": "036e11b7",
   "metadata": {},
   "outputs": [
    {
     "data": {
      "text/plain": [
       "0          [Maruti]\n",
       "1         [Hyundai]\n",
       "2          [Maruti]\n",
       "3          [Maruti]\n",
       "4        [Mahindra]\n",
       "           ...     \n",
       "510       [Renault]\n",
       "511    [Volkswagen]\n",
       "512        [Maruti]\n",
       "513          [Ford]\n",
       "514       [Hyundai]\n",
       "Name: brand0, Length: 515, dtype: object"
      ]
     },
     "execution_count": 53,
     "metadata": {},
     "output_type": "execute_result"
    }
   ],
   "source": [
    "df['brand0'].apply(lambda x : re.findall('[^\\d\\s]\\w+', x))"
   ]
  },
  {
   "cell_type": "code",
   "execution_count": 54,
   "id": "76c48961",
   "metadata": {},
   "outputs": [],
   "source": [
    "df[\"brand\"]=df['brand0'].apply(lambda x : re.findall('[^\\d\\s]\\w+', x))"
   ]
  },
  {
   "cell_type": "code",
   "execution_count": 55,
   "id": "4e879343",
   "metadata": {
    "scrolled": false
   },
   "outputs": [],
   "source": [
    "df.brand = df.brand.apply(lambda x : ''.join(x))"
   ]
  },
  {
   "cell_type": "code",
   "execution_count": 56,
   "id": "87492771",
   "metadata": {},
   "outputs": [
    {
     "data": {
      "text/html": [
       "<div>\n",
       "<style scoped>\n",
       "    .dataframe tbody tr th:only-of-type {\n",
       "        vertical-align: middle;\n",
       "    }\n",
       "\n",
       "    .dataframe tbody tr th {\n",
       "        vertical-align: top;\n",
       "    }\n",
       "\n",
       "    .dataframe thead th {\n",
       "        text-align: right;\n",
       "    }\n",
       "</style>\n",
       "<table border=\"1\" class=\"dataframe\">\n",
       "  <thead>\n",
       "    <tr style=\"text-align: right;\">\n",
       "      <th></th>\n",
       "      <th>car_title</th>\n",
       "      <th>engine_transmission</th>\n",
       "      <th>car_details</th>\n",
       "      <th>car_price</th>\n",
       "      <th>km_driven</th>\n",
       "      <th>ownership</th>\n",
       "      <th>fuel_type</th>\n",
       "      <th>Registration</th>\n",
       "      <th>car_model_year</th>\n",
       "      <th>car_name</th>\n",
       "      <th>transmission</th>\n",
       "      <th>brand1</th>\n",
       "      <th>brand0</th>\n",
       "      <th>brand</th>\n",
       "    </tr>\n",
       "  </thead>\n",
       "  <tbody>\n",
       "    <tr>\n",
       "      <th>0</th>\n",
       "      <td>2015 Maruti Swift Dzire</td>\n",
       "      <td>VXI Manual</td>\n",
       "      <td>94,590 km\\n1st Owner\\nPetrol\\nTS-07</td>\n",
       "      <td>₹4,70,699</td>\n",
       "      <td>94,590</td>\n",
       "      <td>1st</td>\n",
       "      <td>Petrol</td>\n",
       "      <td>TS-07</td>\n",
       "      <td>2015</td>\n",
       "      <td>Maruti Swift Dzire</td>\n",
       "      <td>Manual</td>\n",
       "      <td>[2015 Maruti]</td>\n",
       "      <td>2015 Maruti</td>\n",
       "      <td>Maruti</td>\n",
       "    </tr>\n",
       "    <tr>\n",
       "      <th>1</th>\n",
       "      <td>2014 Hyundai Eon</td>\n",
       "      <td>ERA PLUS Manual</td>\n",
       "      <td>69,079 km\\n1st Owner\\nPetrol\\nTS-10</td>\n",
       "      <td>₹2,92,299</td>\n",
       "      <td>69,079</td>\n",
       "      <td>1st</td>\n",
       "      <td>Petrol</td>\n",
       "      <td>TS-10</td>\n",
       "      <td>2014</td>\n",
       "      <td>Hyundai Eon</td>\n",
       "      <td>Manual</td>\n",
       "      <td>[2014 Hyundai]</td>\n",
       "      <td>2014 Hyundai</td>\n",
       "      <td>Hyundai</td>\n",
       "    </tr>\n",
       "    <tr>\n",
       "      <th>2</th>\n",
       "      <td>2018 Maruti Ertiga</td>\n",
       "      <td>ZDI PLUS SHVS Manual</td>\n",
       "      <td>68,297 km\\n1st Owner\\nDiesel\\nTS-07</td>\n",
       "      <td>₹9,93,899</td>\n",
       "      <td>68,297</td>\n",
       "      <td>1st</td>\n",
       "      <td>Diesel</td>\n",
       "      <td>TS-07</td>\n",
       "      <td>2018</td>\n",
       "      <td>Maruti Ertiga</td>\n",
       "      <td>Manual</td>\n",
       "      <td>[2018 Maruti]</td>\n",
       "      <td>2018 Maruti</td>\n",
       "      <td>Maruti</td>\n",
       "    </tr>\n",
       "    <tr>\n",
       "      <th>3</th>\n",
       "      <td>2020 Maruti Swift</td>\n",
       "      <td>VXI Manual</td>\n",
       "      <td>10,056 km\\n2nd Owner\\nPetrol\\nAP-39</td>\n",
       "      <td>₹6,43,499</td>\n",
       "      <td>10,056</td>\n",
       "      <td>2nd</td>\n",
       "      <td>Petrol</td>\n",
       "      <td>AP-39</td>\n",
       "      <td>2020</td>\n",
       "      <td>Maruti Swift</td>\n",
       "      <td>Manual</td>\n",
       "      <td>[2020 Maruti]</td>\n",
       "      <td>2020 Maruti</td>\n",
       "      <td>Maruti</td>\n",
       "    </tr>\n",
       "    <tr>\n",
       "      <th>4</th>\n",
       "      <td>2021 Mahindra Scorpio</td>\n",
       "      <td>S11 Manual</td>\n",
       "      <td>43,956 km\\n1st Owner\\nDiesel\\nAP-39</td>\n",
       "      <td>₹16,29,399</td>\n",
       "      <td>43,956</td>\n",
       "      <td>1st</td>\n",
       "      <td>Diesel</td>\n",
       "      <td>AP-39</td>\n",
       "      <td>2021</td>\n",
       "      <td>Mahindra Scorpio</td>\n",
       "      <td>Manual</td>\n",
       "      <td>[2021 Mahindra]</td>\n",
       "      <td>2021 Mahindra</td>\n",
       "      <td>Mahindra</td>\n",
       "    </tr>\n",
       "  </tbody>\n",
       "</table>\n",
       "</div>"
      ],
      "text/plain": [
       "                 car_title   engine_transmission  \\\n",
       "0  2015 Maruti Swift Dzire            VXI Manual   \n",
       "1         2014 Hyundai Eon       ERA PLUS Manual   \n",
       "2       2018 Maruti Ertiga  ZDI PLUS SHVS Manual   \n",
       "3        2020 Maruti Swift            VXI Manual   \n",
       "4    2021 Mahindra Scorpio            S11 Manual   \n",
       "\n",
       "                           car_details   car_price km_driven ownership  \\\n",
       "0  94,590 km\\n1st Owner\\nPetrol\\nTS-07   ₹4,70,699    94,590       1st   \n",
       "1  69,079 km\\n1st Owner\\nPetrol\\nTS-10   ₹2,92,299    69,079       1st   \n",
       "2  68,297 km\\n1st Owner\\nDiesel\\nTS-07   ₹9,93,899    68,297       1st   \n",
       "3  10,056 km\\n2nd Owner\\nPetrol\\nAP-39   ₹6,43,499    10,056       2nd   \n",
       "4  43,956 km\\n1st Owner\\nDiesel\\nAP-39  ₹16,29,399    43,956       1st   \n",
       "\n",
       "  fuel_type Registration car_model_year             car_name transmission  \\\n",
       "0    Petrol        TS-07           2015   Maruti Swift Dzire       Manual   \n",
       "1    Petrol        TS-10           2014          Hyundai Eon       Manual   \n",
       "2    Diesel        TS-07           2018        Maruti Ertiga       Manual   \n",
       "3    Petrol        AP-39           2020         Maruti Swift       Manual   \n",
       "4    Diesel        AP-39           2021     Mahindra Scorpio       Manual   \n",
       "\n",
       "            brand1         brand0     brand  \n",
       "0    [2015 Maruti]    2015 Maruti    Maruti  \n",
       "1   [2014 Hyundai]   2014 Hyundai   Hyundai  \n",
       "2    [2018 Maruti]    2018 Maruti    Maruti  \n",
       "3    [2020 Maruti]    2020 Maruti    Maruti  \n",
       "4  [2021 Mahindra]  2021 Mahindra  Mahindra  "
      ]
     },
     "execution_count": 56,
     "metadata": {},
     "output_type": "execute_result"
    }
   ],
   "source": [
    "df.head()"
   ]
  },
  {
   "cell_type": "code",
   "execution_count": 57,
   "id": "f2ea1a17",
   "metadata": {},
   "outputs": [],
   "source": [
    "del df['brand1']\n",
    "del df['brand0']"
   ]
  },
  {
   "cell_type": "code",
   "execution_count": 58,
   "id": "f5f57ca1",
   "metadata": {},
   "outputs": [],
   "source": [
    "df.car_price = df.car_price.apply(lambda x : x.replace('₹', '').replace(',', '')).astype(float)"
   ]
  },
  {
   "cell_type": "code",
   "execution_count": 59,
   "id": "fddca779",
   "metadata": {},
   "outputs": [],
   "source": [
    "df.km_driven = df.km_driven.apply(lambda x : x.replace(',', '')).astype(float)"
   ]
  },
  {
   "cell_type": "code",
   "execution_count": 60,
   "id": "be208901",
   "metadata": {},
   "outputs": [],
   "source": [
    "df.car_model_year = df.car_model_year.astype(float)"
   ]
  },
  {
   "cell_type": "code",
   "execution_count": 61,
   "id": "54a8dbd9",
   "metadata": {},
   "outputs": [
    {
     "name": "stdout",
     "output_type": "stream",
     "text": [
      "<class 'pandas.core.frame.DataFrame'>\n",
      "RangeIndex: 515 entries, 0 to 514\n",
      "Data columns (total 12 columns):\n",
      " #   Column               Non-Null Count  Dtype  \n",
      "---  ------               --------------  -----  \n",
      " 0   car_title            515 non-null    object \n",
      " 1   engine_transmission  515 non-null    object \n",
      " 2   car_details          515 non-null    object \n",
      " 3   car_price            515 non-null    float64\n",
      " 4   km_driven            515 non-null    float64\n",
      " 5   ownership            515 non-null    object \n",
      " 6   fuel_type            515 non-null    object \n",
      " 7   Registration         515 non-null    object \n",
      " 8   car_model_year       515 non-null    float64\n",
      " 9   car_name             515 non-null    object \n",
      " 10  transmission         515 non-null    object \n",
      " 11  brand                515 non-null    object \n",
      "dtypes: float64(3), object(9)\n",
      "memory usage: 48.4+ KB\n"
     ]
    }
   ],
   "source": [
    "df.info()"
   ]
  },
  {
   "cell_type": "code",
   "execution_count": 62,
   "id": "28fefebc",
   "metadata": {},
   "outputs": [],
   "source": [
    "df.rename(columns = {'car_model_year':'model_year'}, inplace = True)"
   ]
  },
  {
   "cell_type": "code",
   "execution_count": 63,
   "id": "120c5886",
   "metadata": {},
   "outputs": [
    {
     "data": {
      "text/html": [
       "<div>\n",
       "<style scoped>\n",
       "    .dataframe tbody tr th:only-of-type {\n",
       "        vertical-align: middle;\n",
       "    }\n",
       "\n",
       "    .dataframe tbody tr th {\n",
       "        vertical-align: top;\n",
       "    }\n",
       "\n",
       "    .dataframe thead th {\n",
       "        text-align: right;\n",
       "    }\n",
       "</style>\n",
       "<table border=\"1\" class=\"dataframe\">\n",
       "  <thead>\n",
       "    <tr style=\"text-align: right;\">\n",
       "      <th></th>\n",
       "      <th>car_title</th>\n",
       "      <th>engine_transmission</th>\n",
       "      <th>car_details</th>\n",
       "      <th>car_price</th>\n",
       "      <th>km_driven</th>\n",
       "      <th>ownership</th>\n",
       "      <th>fuel_type</th>\n",
       "      <th>Registration</th>\n",
       "      <th>model_year</th>\n",
       "      <th>car_name</th>\n",
       "      <th>transmission</th>\n",
       "      <th>brand</th>\n",
       "    </tr>\n",
       "  </thead>\n",
       "  <tbody>\n",
       "    <tr>\n",
       "      <th>0</th>\n",
       "      <td>2015 Maruti Swift Dzire</td>\n",
       "      <td>VXI Manual</td>\n",
       "      <td>94,590 km\\n1st Owner\\nPetrol\\nTS-07</td>\n",
       "      <td>470699.0</td>\n",
       "      <td>94590.0</td>\n",
       "      <td>1st</td>\n",
       "      <td>Petrol</td>\n",
       "      <td>TS-07</td>\n",
       "      <td>2015.0</td>\n",
       "      <td>Maruti Swift Dzire</td>\n",
       "      <td>Manual</td>\n",
       "      <td>Maruti</td>\n",
       "    </tr>\n",
       "    <tr>\n",
       "      <th>1</th>\n",
       "      <td>2014 Hyundai Eon</td>\n",
       "      <td>ERA PLUS Manual</td>\n",
       "      <td>69,079 km\\n1st Owner\\nPetrol\\nTS-10</td>\n",
       "      <td>292299.0</td>\n",
       "      <td>69079.0</td>\n",
       "      <td>1st</td>\n",
       "      <td>Petrol</td>\n",
       "      <td>TS-10</td>\n",
       "      <td>2014.0</td>\n",
       "      <td>Hyundai Eon</td>\n",
       "      <td>Manual</td>\n",
       "      <td>Hyundai</td>\n",
       "    </tr>\n",
       "    <tr>\n",
       "      <th>2</th>\n",
       "      <td>2018 Maruti Ertiga</td>\n",
       "      <td>ZDI PLUS SHVS Manual</td>\n",
       "      <td>68,297 km\\n1st Owner\\nDiesel\\nTS-07</td>\n",
       "      <td>993899.0</td>\n",
       "      <td>68297.0</td>\n",
       "      <td>1st</td>\n",
       "      <td>Diesel</td>\n",
       "      <td>TS-07</td>\n",
       "      <td>2018.0</td>\n",
       "      <td>Maruti Ertiga</td>\n",
       "      <td>Manual</td>\n",
       "      <td>Maruti</td>\n",
       "    </tr>\n",
       "    <tr>\n",
       "      <th>3</th>\n",
       "      <td>2020 Maruti Swift</td>\n",
       "      <td>VXI Manual</td>\n",
       "      <td>10,056 km\\n2nd Owner\\nPetrol\\nAP-39</td>\n",
       "      <td>643499.0</td>\n",
       "      <td>10056.0</td>\n",
       "      <td>2nd</td>\n",
       "      <td>Petrol</td>\n",
       "      <td>AP-39</td>\n",
       "      <td>2020.0</td>\n",
       "      <td>Maruti Swift</td>\n",
       "      <td>Manual</td>\n",
       "      <td>Maruti</td>\n",
       "    </tr>\n",
       "    <tr>\n",
       "      <th>4</th>\n",
       "      <td>2021 Mahindra Scorpio</td>\n",
       "      <td>S11 Manual</td>\n",
       "      <td>43,956 km\\n1st Owner\\nDiesel\\nAP-39</td>\n",
       "      <td>1629399.0</td>\n",
       "      <td>43956.0</td>\n",
       "      <td>1st</td>\n",
       "      <td>Diesel</td>\n",
       "      <td>AP-39</td>\n",
       "      <td>2021.0</td>\n",
       "      <td>Mahindra Scorpio</td>\n",
       "      <td>Manual</td>\n",
       "      <td>Mahindra</td>\n",
       "    </tr>\n",
       "    <tr>\n",
       "      <th>...</th>\n",
       "      <td>...</td>\n",
       "      <td>...</td>\n",
       "      <td>...</td>\n",
       "      <td>...</td>\n",
       "      <td>...</td>\n",
       "      <td>...</td>\n",
       "      <td>...</td>\n",
       "      <td>...</td>\n",
       "      <td>...</td>\n",
       "      <td>...</td>\n",
       "      <td>...</td>\n",
       "      <td>...</td>\n",
       "    </tr>\n",
       "    <tr>\n",
       "      <th>510</th>\n",
       "      <td>2021 Renault Kwid</td>\n",
       "      <td>1.0 RXT Opt Manual</td>\n",
       "      <td>23,026 km\\n1st Owner\\nPetrol\\nTS-10</td>\n",
       "      <td>489299.0</td>\n",
       "      <td>23026.0</td>\n",
       "      <td>1st</td>\n",
       "      <td>Petrol</td>\n",
       "      <td>TS-10</td>\n",
       "      <td>2021.0</td>\n",
       "      <td>Renault Kwid</td>\n",
       "      <td>Manual</td>\n",
       "      <td>Renault</td>\n",
       "    </tr>\n",
       "    <tr>\n",
       "      <th>511</th>\n",
       "      <td>2017 Volkswagen Ameo</td>\n",
       "      <td>COMFORTLINE 1.2 Manual</td>\n",
       "      <td>94,983 km\\n1st Owner\\nPetrol\\nTS-07</td>\n",
       "      <td>550999.0</td>\n",
       "      <td>94983.0</td>\n",
       "      <td>1st</td>\n",
       "      <td>Petrol</td>\n",
       "      <td>TS-07</td>\n",
       "      <td>2017.0</td>\n",
       "      <td>Volkswagen Ameo</td>\n",
       "      <td>Manual</td>\n",
       "      <td>Volkswagen</td>\n",
       "    </tr>\n",
       "    <tr>\n",
       "      <th>512</th>\n",
       "      <td>2018 Maruti Swift</td>\n",
       "      <td>ZXI AMT Automatic</td>\n",
       "      <td>12,164 km\\n1st Owner\\nPetrol\\nTS-07</td>\n",
       "      <td>747699.0</td>\n",
       "      <td>12164.0</td>\n",
       "      <td>1st</td>\n",
       "      <td>Petrol</td>\n",
       "      <td>TS-07</td>\n",
       "      <td>2018.0</td>\n",
       "      <td>Maruti Swift</td>\n",
       "      <td>AMTAutomatic</td>\n",
       "      <td>Maruti</td>\n",
       "    </tr>\n",
       "    <tr>\n",
       "      <th>513</th>\n",
       "      <td>2019 Ford Ecosport</td>\n",
       "      <td>1.5TITANIUM TDCI Manual</td>\n",
       "      <td>51,782 km\\n2nd Owner\\nDiesel\\nTS-07</td>\n",
       "      <td>884599.0</td>\n",
       "      <td>51782.0</td>\n",
       "      <td>2nd</td>\n",
       "      <td>Diesel</td>\n",
       "      <td>TS-07</td>\n",
       "      <td>2019.0</td>\n",
       "      <td>Ford Ecosport</td>\n",
       "      <td>Manual</td>\n",
       "      <td>Ford</td>\n",
       "    </tr>\n",
       "    <tr>\n",
       "      <th>514</th>\n",
       "      <td>2017 Hyundai Grand i10</td>\n",
       "      <td>SPORTZ (O) 1.2 AT VTVT Automatic</td>\n",
       "      <td>36,725 km\\n1st Owner\\nPetrol\\nTS-10</td>\n",
       "      <td>631499.0</td>\n",
       "      <td>36725.0</td>\n",
       "      <td>1st</td>\n",
       "      <td>Petrol</td>\n",
       "      <td>TS-10</td>\n",
       "      <td>2017.0</td>\n",
       "      <td>Hyundai Grand i10</td>\n",
       "      <td>Automatic</td>\n",
       "      <td>Hyundai</td>\n",
       "    </tr>\n",
       "  </tbody>\n",
       "</table>\n",
       "<p>515 rows × 12 columns</p>\n",
       "</div>"
      ],
      "text/plain": [
       "                   car_title               engine_transmission  \\\n",
       "0    2015 Maruti Swift Dzire                        VXI Manual   \n",
       "1           2014 Hyundai Eon                   ERA PLUS Manual   \n",
       "2         2018 Maruti Ertiga              ZDI PLUS SHVS Manual   \n",
       "3          2020 Maruti Swift                        VXI Manual   \n",
       "4      2021 Mahindra Scorpio                        S11 Manual   \n",
       "..                       ...                               ...   \n",
       "510        2021 Renault Kwid                1.0 RXT Opt Manual   \n",
       "511     2017 Volkswagen Ameo            COMFORTLINE 1.2 Manual   \n",
       "512        2018 Maruti Swift                 ZXI AMT Automatic   \n",
       "513       2019 Ford Ecosport           1.5TITANIUM TDCI Manual   \n",
       "514   2017 Hyundai Grand i10  SPORTZ (O) 1.2 AT VTVT Automatic   \n",
       "\n",
       "                             car_details  car_price  km_driven ownership  \\\n",
       "0    94,590 km\\n1st Owner\\nPetrol\\nTS-07   470699.0    94590.0       1st   \n",
       "1    69,079 km\\n1st Owner\\nPetrol\\nTS-10   292299.0    69079.0       1st   \n",
       "2    68,297 km\\n1st Owner\\nDiesel\\nTS-07   993899.0    68297.0       1st   \n",
       "3    10,056 km\\n2nd Owner\\nPetrol\\nAP-39   643499.0    10056.0       2nd   \n",
       "4    43,956 km\\n1st Owner\\nDiesel\\nAP-39  1629399.0    43956.0       1st   \n",
       "..                                   ...        ...        ...       ...   \n",
       "510  23,026 km\\n1st Owner\\nPetrol\\nTS-10   489299.0    23026.0       1st   \n",
       "511  94,983 km\\n1st Owner\\nPetrol\\nTS-07   550999.0    94983.0       1st   \n",
       "512  12,164 km\\n1st Owner\\nPetrol\\nTS-07   747699.0    12164.0       1st   \n",
       "513  51,782 km\\n2nd Owner\\nDiesel\\nTS-07   884599.0    51782.0       2nd   \n",
       "514  36,725 km\\n1st Owner\\nPetrol\\nTS-10   631499.0    36725.0       1st   \n",
       "\n",
       "    fuel_type Registration  model_year             car_name  transmission  \\\n",
       "0      Petrol        TS-07      2015.0   Maruti Swift Dzire        Manual   \n",
       "1      Petrol        TS-10      2014.0          Hyundai Eon        Manual   \n",
       "2      Diesel        TS-07      2018.0        Maruti Ertiga        Manual   \n",
       "3      Petrol        AP-39      2020.0         Maruti Swift        Manual   \n",
       "4      Diesel        AP-39      2021.0     Mahindra Scorpio        Manual   \n",
       "..        ...          ...         ...                  ...           ...   \n",
       "510    Petrol        TS-10      2021.0         Renault Kwid        Manual   \n",
       "511    Petrol        TS-07      2017.0      Volkswagen Ameo        Manual   \n",
       "512    Petrol        TS-07      2018.0         Maruti Swift  AMTAutomatic   \n",
       "513    Diesel        TS-07      2019.0        Ford Ecosport        Manual   \n",
       "514    Petrol        TS-10      2017.0    Hyundai Grand i10     Automatic   \n",
       "\n",
       "          brand  \n",
       "0        Maruti  \n",
       "1       Hyundai  \n",
       "2        Maruti  \n",
       "3        Maruti  \n",
       "4      Mahindra  \n",
       "..          ...  \n",
       "510     Renault  \n",
       "511  Volkswagen  \n",
       "512      Maruti  \n",
       "513        Ford  \n",
       "514     Hyundai  \n",
       "\n",
       "[515 rows x 12 columns]"
      ]
     },
     "execution_count": 63,
     "metadata": {},
     "output_type": "execute_result"
    }
   ],
   "source": [
    "df.replace(to_replace=[\"MTManual\",\"MT\"],value=\"Manual\")\n",
    "df.replace(to_replace=[\"AMTAutomatic\",\"AMT\"],value=\"Automatic\")\n",
    "df.replace(to_replace=[\"MARUTI\"],value=\"Maruti\")\n",
    "df.replace(to_replace=[\"SKODA\"],value=\"Skoda\")"
   ]
  },
  {
   "cell_type": "code",
   "execution_count": 69,
   "id": "5b99546e",
   "metadata": {},
   "outputs": [],
   "source": [
    "first_column = df.pop('brand')\n",
    "df.insert(0, 'brand', first_column)"
   ]
  },
  {
   "cell_type": "code",
   "execution_count": 70,
   "id": "bcc70ff3",
   "metadata": {},
   "outputs": [
    {
     "data": {
      "text/html": [
       "<div>\n",
       "<style scoped>\n",
       "    .dataframe tbody tr th:only-of-type {\n",
       "        vertical-align: middle;\n",
       "    }\n",
       "\n",
       "    .dataframe tbody tr th {\n",
       "        vertical-align: top;\n",
       "    }\n",
       "\n",
       "    .dataframe thead th {\n",
       "        text-align: right;\n",
       "    }\n",
       "</style>\n",
       "<table border=\"1\" class=\"dataframe\">\n",
       "  <thead>\n",
       "    <tr style=\"text-align: right;\">\n",
       "      <th></th>\n",
       "      <th>brand</th>\n",
       "      <th>car_title</th>\n",
       "      <th>engine_transmission</th>\n",
       "      <th>car_details</th>\n",
       "      <th>car_price</th>\n",
       "      <th>km_driven</th>\n",
       "      <th>ownership</th>\n",
       "      <th>fuel_type</th>\n",
       "      <th>Registration</th>\n",
       "      <th>model_year</th>\n",
       "      <th>car_name</th>\n",
       "      <th>transmission</th>\n",
       "    </tr>\n",
       "  </thead>\n",
       "  <tbody>\n",
       "    <tr>\n",
       "      <th>0</th>\n",
       "      <td>Maruti</td>\n",
       "      <td>2015 Maruti Swift Dzire</td>\n",
       "      <td>VXI Manual</td>\n",
       "      <td>94,590 km\\n1st Owner\\nPetrol\\nTS-07</td>\n",
       "      <td>470699.0</td>\n",
       "      <td>94590.0</td>\n",
       "      <td>1st</td>\n",
       "      <td>Petrol</td>\n",
       "      <td>TS-07</td>\n",
       "      <td>2015.0</td>\n",
       "      <td>Maruti Swift Dzire</td>\n",
       "      <td>Manual</td>\n",
       "    </tr>\n",
       "    <tr>\n",
       "      <th>1</th>\n",
       "      <td>Hyundai</td>\n",
       "      <td>2014 Hyundai Eon</td>\n",
       "      <td>ERA PLUS Manual</td>\n",
       "      <td>69,079 km\\n1st Owner\\nPetrol\\nTS-10</td>\n",
       "      <td>292299.0</td>\n",
       "      <td>69079.0</td>\n",
       "      <td>1st</td>\n",
       "      <td>Petrol</td>\n",
       "      <td>TS-10</td>\n",
       "      <td>2014.0</td>\n",
       "      <td>Hyundai Eon</td>\n",
       "      <td>Manual</td>\n",
       "    </tr>\n",
       "    <tr>\n",
       "      <th>2</th>\n",
       "      <td>Maruti</td>\n",
       "      <td>2018 Maruti Ertiga</td>\n",
       "      <td>ZDI PLUS SHVS Manual</td>\n",
       "      <td>68,297 km\\n1st Owner\\nDiesel\\nTS-07</td>\n",
       "      <td>993899.0</td>\n",
       "      <td>68297.0</td>\n",
       "      <td>1st</td>\n",
       "      <td>Diesel</td>\n",
       "      <td>TS-07</td>\n",
       "      <td>2018.0</td>\n",
       "      <td>Maruti Ertiga</td>\n",
       "      <td>Manual</td>\n",
       "    </tr>\n",
       "    <tr>\n",
       "      <th>3</th>\n",
       "      <td>Maruti</td>\n",
       "      <td>2020 Maruti Swift</td>\n",
       "      <td>VXI Manual</td>\n",
       "      <td>10,056 km\\n2nd Owner\\nPetrol\\nAP-39</td>\n",
       "      <td>643499.0</td>\n",
       "      <td>10056.0</td>\n",
       "      <td>2nd</td>\n",
       "      <td>Petrol</td>\n",
       "      <td>AP-39</td>\n",
       "      <td>2020.0</td>\n",
       "      <td>Maruti Swift</td>\n",
       "      <td>Manual</td>\n",
       "    </tr>\n",
       "    <tr>\n",
       "      <th>4</th>\n",
       "      <td>Mahindra</td>\n",
       "      <td>2021 Mahindra Scorpio</td>\n",
       "      <td>S11 Manual</td>\n",
       "      <td>43,956 km\\n1st Owner\\nDiesel\\nAP-39</td>\n",
       "      <td>1629399.0</td>\n",
       "      <td>43956.0</td>\n",
       "      <td>1st</td>\n",
       "      <td>Diesel</td>\n",
       "      <td>AP-39</td>\n",
       "      <td>2021.0</td>\n",
       "      <td>Mahindra Scorpio</td>\n",
       "      <td>Manual</td>\n",
       "    </tr>\n",
       "  </tbody>\n",
       "</table>\n",
       "</div>"
      ],
      "text/plain": [
       "      brand                car_title   engine_transmission  \\\n",
       "0    Maruti  2015 Maruti Swift Dzire            VXI Manual   \n",
       "1   Hyundai         2014 Hyundai Eon       ERA PLUS Manual   \n",
       "2    Maruti       2018 Maruti Ertiga  ZDI PLUS SHVS Manual   \n",
       "3    Maruti        2020 Maruti Swift            VXI Manual   \n",
       "4  Mahindra    2021 Mahindra Scorpio            S11 Manual   \n",
       "\n",
       "                           car_details  car_price  km_driven ownership  \\\n",
       "0  94,590 km\\n1st Owner\\nPetrol\\nTS-07   470699.0    94590.0       1st   \n",
       "1  69,079 km\\n1st Owner\\nPetrol\\nTS-10   292299.0    69079.0       1st   \n",
       "2  68,297 km\\n1st Owner\\nDiesel\\nTS-07   993899.0    68297.0       1st   \n",
       "3  10,056 km\\n2nd Owner\\nPetrol\\nAP-39   643499.0    10056.0       2nd   \n",
       "4  43,956 km\\n1st Owner\\nDiesel\\nAP-39  1629399.0    43956.0       1st   \n",
       "\n",
       "  fuel_type Registration  model_year             car_name transmission  \n",
       "0    Petrol        TS-07      2015.0   Maruti Swift Dzire       Manual  \n",
       "1    Petrol        TS-10      2014.0          Hyundai Eon       Manual  \n",
       "2    Diesel        TS-07      2018.0        Maruti Ertiga       Manual  \n",
       "3    Petrol        AP-39      2020.0         Maruti Swift       Manual  \n",
       "4    Diesel        AP-39      2021.0     Mahindra Scorpio       Manual  "
      ]
     },
     "execution_count": 70,
     "metadata": {},
     "output_type": "execute_result"
    }
   ],
   "source": [
    "df.head()"
   ]
  },
  {
   "cell_type": "code",
   "execution_count": 71,
   "id": "daf9b834",
   "metadata": {},
   "outputs": [
    {
     "data": {
      "text/plain": [
       "brand                  category\n",
       "car_title                object\n",
       "engine_transmission      object\n",
       "car_details              object\n",
       "car_price               float64\n",
       "km_driven               float64\n",
       "ownership              category\n",
       "fuel_type              category\n",
       "Registration             object\n",
       "model_year              float64\n",
       "car_name                 object\n",
       "transmission           category\n",
       "dtype: object"
      ]
     },
     "execution_count": 71,
     "metadata": {},
     "output_type": "execute_result"
    }
   ],
   "source": [
    "df.dtypes"
   ]
  },
  {
   "cell_type": "code",
   "execution_count": 72,
   "id": "2f28efee",
   "metadata": {},
   "outputs": [],
   "source": [
    "df['transmission'] = df['transmission'].astype('category')\n",
    "df['ownership'] = df['ownership'].astype('category')\n",
    "df['fuel_type'] = df['fuel_type'].astype('category')\n",
    "df['brand'] = df['brand'].astype('category')"
   ]
  },
  {
   "cell_type": "code",
   "execution_count": 73,
   "id": "dcbeeb71",
   "metadata": {},
   "outputs": [
    {
     "data": {
      "text/plain": [
       "brand                  category\n",
       "car_title                object\n",
       "engine_transmission      object\n",
       "car_details              object\n",
       "car_price               float64\n",
       "km_driven               float64\n",
       "ownership              category\n",
       "fuel_type              category\n",
       "Registration             object\n",
       "model_year              float64\n",
       "car_name                 object\n",
       "transmission           category\n",
       "dtype: object"
      ]
     },
     "execution_count": 73,
     "metadata": {},
     "output_type": "execute_result"
    }
   ],
   "source": [
    "df.dtypes"
   ]
  },
  {
   "cell_type": "markdown",
   "id": "a9048934",
   "metadata": {},
   "source": [
    "## Data visualization"
   ]
  },
  {
   "cell_type": "code",
   "execution_count": 78,
   "id": "924a4cec",
   "metadata": {},
   "outputs": [],
   "source": [
    "import matplotlib.pyplot as plt\n",
    "import seaborn as sns"
   ]
  },
  {
   "cell_type": "code",
   "execution_count": 79,
   "id": "f8120cf3",
   "metadata": {},
   "outputs": [
    {
     "data": {
      "text/html": [
       "<div>\n",
       "<style scoped>\n",
       "    .dataframe tbody tr th:only-of-type {\n",
       "        vertical-align: middle;\n",
       "    }\n",
       "\n",
       "    .dataframe tbody tr th {\n",
       "        vertical-align: top;\n",
       "    }\n",
       "\n",
       "    .dataframe thead th {\n",
       "        text-align: right;\n",
       "    }\n",
       "</style>\n",
       "<table border=\"1\" class=\"dataframe\">\n",
       "  <thead>\n",
       "    <tr style=\"text-align: right;\">\n",
       "      <th></th>\n",
       "      <th>brand</th>\n",
       "      <th>car_title</th>\n",
       "      <th>engine_transmission</th>\n",
       "      <th>car_details</th>\n",
       "      <th>car_price</th>\n",
       "      <th>km_driven</th>\n",
       "      <th>ownership</th>\n",
       "      <th>fuel_type</th>\n",
       "      <th>Registration</th>\n",
       "      <th>model_year</th>\n",
       "      <th>car_name</th>\n",
       "      <th>transmission</th>\n",
       "    </tr>\n",
       "  </thead>\n",
       "  <tbody>\n",
       "    <tr>\n",
       "      <th>0</th>\n",
       "      <td>Maruti</td>\n",
       "      <td>2015 Maruti Swift Dzire</td>\n",
       "      <td>VXI Manual</td>\n",
       "      <td>94,590 km\\n1st Owner\\nPetrol\\nTS-07</td>\n",
       "      <td>470699.0</td>\n",
       "      <td>94590.0</td>\n",
       "      <td>1st</td>\n",
       "      <td>Petrol</td>\n",
       "      <td>TS-07</td>\n",
       "      <td>2015.0</td>\n",
       "      <td>Maruti Swift Dzire</td>\n",
       "      <td>Manual</td>\n",
       "    </tr>\n",
       "    <tr>\n",
       "      <th>1</th>\n",
       "      <td>Hyundai</td>\n",
       "      <td>2014 Hyundai Eon</td>\n",
       "      <td>ERA PLUS Manual</td>\n",
       "      <td>69,079 km\\n1st Owner\\nPetrol\\nTS-10</td>\n",
       "      <td>292299.0</td>\n",
       "      <td>69079.0</td>\n",
       "      <td>1st</td>\n",
       "      <td>Petrol</td>\n",
       "      <td>TS-10</td>\n",
       "      <td>2014.0</td>\n",
       "      <td>Hyundai Eon</td>\n",
       "      <td>Manual</td>\n",
       "    </tr>\n",
       "    <tr>\n",
       "      <th>2</th>\n",
       "      <td>Maruti</td>\n",
       "      <td>2018 Maruti Ertiga</td>\n",
       "      <td>ZDI PLUS SHVS Manual</td>\n",
       "      <td>68,297 km\\n1st Owner\\nDiesel\\nTS-07</td>\n",
       "      <td>993899.0</td>\n",
       "      <td>68297.0</td>\n",
       "      <td>1st</td>\n",
       "      <td>Diesel</td>\n",
       "      <td>TS-07</td>\n",
       "      <td>2018.0</td>\n",
       "      <td>Maruti Ertiga</td>\n",
       "      <td>Manual</td>\n",
       "    </tr>\n",
       "    <tr>\n",
       "      <th>3</th>\n",
       "      <td>Maruti</td>\n",
       "      <td>2020 Maruti Swift</td>\n",
       "      <td>VXI Manual</td>\n",
       "      <td>10,056 km\\n2nd Owner\\nPetrol\\nAP-39</td>\n",
       "      <td>643499.0</td>\n",
       "      <td>10056.0</td>\n",
       "      <td>2nd</td>\n",
       "      <td>Petrol</td>\n",
       "      <td>AP-39</td>\n",
       "      <td>2020.0</td>\n",
       "      <td>Maruti Swift</td>\n",
       "      <td>Manual</td>\n",
       "    </tr>\n",
       "    <tr>\n",
       "      <th>4</th>\n",
       "      <td>Mahindra</td>\n",
       "      <td>2021 Mahindra Scorpio</td>\n",
       "      <td>S11 Manual</td>\n",
       "      <td>43,956 km\\n1st Owner\\nDiesel\\nAP-39</td>\n",
       "      <td>1629399.0</td>\n",
       "      <td>43956.0</td>\n",
       "      <td>1st</td>\n",
       "      <td>Diesel</td>\n",
       "      <td>AP-39</td>\n",
       "      <td>2021.0</td>\n",
       "      <td>Mahindra Scorpio</td>\n",
       "      <td>Manual</td>\n",
       "    </tr>\n",
       "  </tbody>\n",
       "</table>\n",
       "</div>"
      ],
      "text/plain": [
       "      brand                car_title   engine_transmission  \\\n",
       "0    Maruti  2015 Maruti Swift Dzire            VXI Manual   \n",
       "1   Hyundai         2014 Hyundai Eon       ERA PLUS Manual   \n",
       "2    Maruti       2018 Maruti Ertiga  ZDI PLUS SHVS Manual   \n",
       "3    Maruti        2020 Maruti Swift            VXI Manual   \n",
       "4  Mahindra    2021 Mahindra Scorpio            S11 Manual   \n",
       "\n",
       "                           car_details  car_price  km_driven ownership  \\\n",
       "0  94,590 km\\n1st Owner\\nPetrol\\nTS-07   470699.0    94590.0       1st   \n",
       "1  69,079 km\\n1st Owner\\nPetrol\\nTS-10   292299.0    69079.0       1st   \n",
       "2  68,297 km\\n1st Owner\\nDiesel\\nTS-07   993899.0    68297.0       1st   \n",
       "3  10,056 km\\n2nd Owner\\nPetrol\\nAP-39   643499.0    10056.0       2nd   \n",
       "4  43,956 km\\n1st Owner\\nDiesel\\nAP-39  1629399.0    43956.0       1st   \n",
       "\n",
       "  fuel_type Registration  model_year             car_name transmission  \n",
       "0    Petrol        TS-07      2015.0   Maruti Swift Dzire       Manual  \n",
       "1    Petrol        TS-10      2014.0          Hyundai Eon       Manual  \n",
       "2    Diesel        TS-07      2018.0        Maruti Ertiga       Manual  \n",
       "3    Petrol        AP-39      2020.0         Maruti Swift       Manual  \n",
       "4    Diesel        AP-39      2021.0     Mahindra Scorpio       Manual  "
      ]
     },
     "execution_count": 79,
     "metadata": {},
     "output_type": "execute_result"
    }
   ],
   "source": [
    "df.head()"
   ]
  },
  {
   "cell_type": "code",
   "execution_count": 75,
   "id": "f80905e5",
   "metadata": {},
   "outputs": [
    {
     "data": {
      "text/plain": [
       "(515, 12)"
      ]
     },
     "execution_count": 75,
     "metadata": {},
     "output_type": "execute_result"
    }
   ],
   "source": [
    "df.shape"
   ]
  },
  {
   "cell_type": "markdown",
   "id": "1ed9f570",
   "metadata": {},
   "source": [
    "## uni-variate analysis"
   ]
  },
  {
   "cell_type": "code",
   "execution_count": 76,
   "id": "509cac49",
   "metadata": {},
   "outputs": [
    {
     "data": {
      "text/plain": [
       "Text(0.5, 1.0, 'value counts=Petrol    80.0\\nDiesel    20.0\\nName: fuel_type, dtype: float64 \\nn_uniques=2 ')"
      ]
     },
     "execution_count": 76,
     "metadata": {},
     "output_type": "execute_result"
    },
    {
     "data": {
      "image/png": "[encoded data removed]",
      "text/plain": [
       "<Figure size 288x504 with 1 Axes>"
      ]
     },
     "metadata": {
      "needs_background": "light"
     },
     "output_type": "display_data"
    }
   ],
   "source": [
    "## count plot of fuel_type\n",
    "\n",
    "plt.figure(figsize=(4, 7))\n",
    "sns.countplot(x=df.fuel_type)\n",
    "plt.xticks(rotation = 90)\n",
    "\n",
    "norm_count = df.fuel_type.value_counts(normalize = True)*100\n",
    "n_uni = df.fuel_type.nunique()\n",
    "\n",
    "plt.title(f'value counts={norm_count} \\nn_uniques={n_uni} ')"
   ]
  },
  {
   "cell_type": "code",
   "execution_count": 168,
   "id": "8d6dcc01",
   "metadata": {},
   "outputs": [
    {
     "data": {
      "text/plain": [
       "Text(0.5, 1.0, 'std_dev = 359410.3402693967 \\nmean = 687828.027184466 \\nmedian = 587399.0')"
      ]
     },
     "execution_count": 168,
     "metadata": {},
     "output_type": "execute_result"
    },
    {
     "data": {
      "image/png": "[encoded data removed]",
      "text/plain": [
       "<Figure size 360x360 with 1 Axes>"
      ]
     },
     "metadata": {
      "needs_background": "light"
     },
     "output_type": "display_data"
    }
   ],
   "source": [
    "## distribution plot of car_price\n",
    "\n",
    "sns.displot(df[\"car_price\"])\n",
    "mea = df.car_price.mean()\n",
    "median = df.car_price.median()\n",
    "st_dev = df.car_price.std()\n",
    "\n",
    "plt.title(f'std_dev = {st_dev} \\nmean = {mea} \\nmedian = {median}')"
   ]
  },
  {
   "cell_type": "code",
   "execution_count": 172,
   "id": "e33dc31d",
   "metadata": {
    "scrolled": true
   },
   "outputs": [
    {
     "data": {
      "text/plain": [
       "Text(0.5, 1.0, 'std_dev = 26121.5025682702 \\nmean = 50726.46213592233 \\nmedian = 50635.0')"
      ]
     },
     "execution_count": 172,
     "metadata": {},
     "output_type": "execute_result"
    },
    {
     "data": {
      "image/png": "[encoded data removed]",
      "text/plain": [
       "<Figure size 432x288 with 1 Axes>"
      ]
     },
     "metadata": {
      "needs_background": "light"
     },
     "output_type": "display_data"
    }
   ],
   "source": [
    "## histogram plot of km_driven\n",
    "\n",
    "plt.hist(df['km_driven'])\n",
    "\n",
    "mea = df.km_driven.mean()\n",
    "median = df.km_driven.median()\n",
    "st_dev = df.km_driven.std()\n",
    "\n",
    "plt.title(f'std_dev = {st_dev} \\nmean = {mea} \\nmedian = {median}')"
   ]
  },
  {
   "cell_type": "code",
   "execution_count": 170,
   "id": "4c7ecbcb",
   "metadata": {},
   "outputs": [
    {
     "data": {
      "text/plain": [
       "<AxesSubplot:ylabel='brand'>"
      ]
     },
     "execution_count": 170,
     "metadata": {},
     "output_type": "execute_result"
    },
    {
     "data": {
      "image/png": "[encoded data removed]",
      "text/plain": [
       "<Figure size 360x720 with 1 Axes>"
      ]
     },
     "metadata": {},
     "output_type": "display_data"
    }
   ],
   "source": [
    "## pie chart of brand\n",
    "\n",
    "df[\"brand\"].value_counts().plot.pie(figsize = (5,10), autopct=\"%.2f%%\",shadow=True,explode = [0.3,0.3,0.3,0.3,0.3,0.3,0.3,0.3,0.3,0.3,0.3,0.3,0.3,0.3,0.3,0.9\n",
    ",0.9])"
   ]
  },
  {
   "cell_type": "code",
   "execution_count": 169,
   "id": "21aef69c",
   "metadata": {
    "scrolled": true
   },
   "outputs": [
    {
     "data": {
      "text/plain": [
       "Text(0.5, 1.0, 'value counts=2019.0    15.922330\\n2018.0    15.145631\\n2017.0    14.174757\\n2021.0    11.262136\\n2020.0    11.067961\\n2014.0     7.961165\\n2015.0     6.213592\\n2016.0     5.631068\\n2013.0     4.854369\\n2022.0     3.300971\\n2012.0     3.106796\\n2011.0     0.970874\\n2009.0     0.388350\\nName: model_year, dtype: float64 \\nn_uniques=13 ')"
      ]
     },
     "execution_count": 169,
     "metadata": {},
     "output_type": "execute_result"
    },
    {
     "data": {
      "image/png": "[encoded data removed]",
      "text/plain": [
       "<Figure size 288x504 with 1 Axes>"
      ]
     },
     "metadata": {
      "needs_background": "light"
     },
     "output_type": "display_data"
    }
   ],
   "source": [
    "## countplot of model year\n",
    "\n",
    "plt.figure(figsize=(4, 7))\n",
    "sns.countplot(x=df.model_year)\n",
    "plt.xticks(rotation = 90)\n",
    "\n",
    "norm_count = df.model_year.value_counts(normalize = True)*100\n",
    "n_uni = df.model_year.nunique()\n",
    "\n",
    "plt.title(f'value counts={norm_count} \\nn_uniques={n_uni} ')"
   ]
  },
  {
   "cell_type": "code",
   "execution_count": 171,
   "id": "28189f32",
   "metadata": {},
   "outputs": [
    {
     "data": {
      "text/plain": [
       "Text(0.5, 1.0, 'value counts=1st    71.456311\\n2nd    26.407767\\n3rd     2.135922\\nName: ownership, dtype: float64 \\nn_uniques=3 ')"
      ]
     },
     "execution_count": 171,
     "metadata": {},
     "output_type": "execute_result"
    },
    {
     "data": {
      "image/png": "[encoded data removed]",
      "text/plain": [
       "<Figure size 288x504 with 1 Axes>"
      ]
     },
     "metadata": {
      "needs_background": "light"
     },
     "output_type": "display_data"
    }
   ],
   "source": [
    "## count plot of ownership\n",
    "\n",
    "plt.figure(figsize=(4, 7))\n",
    "sns.countplot(x=df.ownership)\n",
    "plt.xticks(rotation = 90)\n",
    "\n",
    "norm_count = df.ownership.value_counts(normalize = True)*100\n",
    "n_uni = df.ownership.nunique()\n",
    "\n",
    "plt.title(f'value counts={norm_count} \\nn_uniques={n_uni} ')"
   ]
  },
  {
   "cell_type": "markdown",
   "id": "e319d07a",
   "metadata": {},
   "source": [
    "## Bi-variate Analysis"
   ]
  },
  {
   "cell_type": "code",
   "execution_count": 111,
   "id": "b4f6fe9f",
   "metadata": {
    "scrolled": true
   },
   "outputs": [
    {
     "data": {
      "text/html": [
       "<div>\n",
       "<style scoped>\n",
       "    .dataframe tbody tr th:only-of-type {\n",
       "        vertical-align: middle;\n",
       "    }\n",
       "\n",
       "    .dataframe tbody tr th {\n",
       "        vertical-align: top;\n",
       "    }\n",
       "\n",
       "    .dataframe thead th {\n",
       "        text-align: right;\n",
       "    }\n",
       "</style>\n",
       "<table border=\"1\" class=\"dataframe\">\n",
       "  <thead>\n",
       "    <tr style=\"text-align: right;\">\n",
       "      <th></th>\n",
       "      <th>car_title</th>\n",
       "      <th>engine_transmission</th>\n",
       "      <th>car_details</th>\n",
       "      <th>car_price</th>\n",
       "      <th>km_driven</th>\n",
       "      <th>ownership</th>\n",
       "      <th>fuel_type</th>\n",
       "      <th>Registration</th>\n",
       "      <th>model_year</th>\n",
       "      <th>car_name</th>\n",
       "      <th>transmission</th>\n",
       "      <th>brand</th>\n",
       "    </tr>\n",
       "  </thead>\n",
       "  <tbody>\n",
       "    <tr>\n",
       "      <th>0</th>\n",
       "      <td>2015 Maruti Swift Dzire</td>\n",
       "      <td>VXI Manual</td>\n",
       "      <td>94,590 km\\n1st Owner\\nPetrol\\nTS-07</td>\n",
       "      <td>470699.0</td>\n",
       "      <td>94590.0</td>\n",
       "      <td>1st</td>\n",
       "      <td>Petrol</td>\n",
       "      <td>TS-07</td>\n",
       "      <td>2015.0</td>\n",
       "      <td>Maruti Swift Dzire</td>\n",
       "      <td>Manual</td>\n",
       "      <td>Maruti</td>\n",
       "    </tr>\n",
       "    <tr>\n",
       "      <th>1</th>\n",
       "      <td>2014 Hyundai Eon</td>\n",
       "      <td>ERA PLUS Manual</td>\n",
       "      <td>69,079 km\\n1st Owner\\nPetrol\\nTS-10</td>\n",
       "      <td>292299.0</td>\n",
       "      <td>69079.0</td>\n",
       "      <td>1st</td>\n",
       "      <td>Petrol</td>\n",
       "      <td>TS-10</td>\n",
       "      <td>2014.0</td>\n",
       "      <td>Hyundai Eon</td>\n",
       "      <td>Manual</td>\n",
       "      <td>Hyundai</td>\n",
       "    </tr>\n",
       "    <tr>\n",
       "      <th>2</th>\n",
       "      <td>2018 Maruti Ertiga</td>\n",
       "      <td>ZDI PLUS SHVS Manual</td>\n",
       "      <td>68,297 km\\n1st Owner\\nDiesel\\nTS-07</td>\n",
       "      <td>993899.0</td>\n",
       "      <td>68297.0</td>\n",
       "      <td>1st</td>\n",
       "      <td>Diesel</td>\n",
       "      <td>TS-07</td>\n",
       "      <td>2018.0</td>\n",
       "      <td>Maruti Ertiga</td>\n",
       "      <td>Manual</td>\n",
       "      <td>Maruti</td>\n",
       "    </tr>\n",
       "    <tr>\n",
       "      <th>3</th>\n",
       "      <td>2020 Maruti Swift</td>\n",
       "      <td>VXI Manual</td>\n",
       "      <td>10,056 km\\n2nd Owner\\nPetrol\\nAP-39</td>\n",
       "      <td>643499.0</td>\n",
       "      <td>10056.0</td>\n",
       "      <td>2nd</td>\n",
       "      <td>Petrol</td>\n",
       "      <td>AP-39</td>\n",
       "      <td>2020.0</td>\n",
       "      <td>Maruti Swift</td>\n",
       "      <td>Manual</td>\n",
       "      <td>Maruti</td>\n",
       "    </tr>\n",
       "    <tr>\n",
       "      <th>4</th>\n",
       "      <td>2021 Mahindra Scorpio</td>\n",
       "      <td>S11 Manual</td>\n",
       "      <td>43,956 km\\n1st Owner\\nDiesel\\nAP-39</td>\n",
       "      <td>1629399.0</td>\n",
       "      <td>43956.0</td>\n",
       "      <td>1st</td>\n",
       "      <td>Diesel</td>\n",
       "      <td>AP-39</td>\n",
       "      <td>2021.0</td>\n",
       "      <td>Mahindra Scorpio</td>\n",
       "      <td>Manual</td>\n",
       "      <td>Mahindra</td>\n",
       "    </tr>\n",
       "  </tbody>\n",
       "</table>\n",
       "</div>"
      ],
      "text/plain": [
       "                 car_title   engine_transmission  \\\n",
       "0  2015 Maruti Swift Dzire            VXI Manual   \n",
       "1         2014 Hyundai Eon       ERA PLUS Manual   \n",
       "2       2018 Maruti Ertiga  ZDI PLUS SHVS Manual   \n",
       "3        2020 Maruti Swift            VXI Manual   \n",
       "4    2021 Mahindra Scorpio            S11 Manual   \n",
       "\n",
       "                           car_details  car_price  km_driven ownership  \\\n",
       "0  94,590 km\\n1st Owner\\nPetrol\\nTS-07   470699.0    94590.0       1st   \n",
       "1  69,079 km\\n1st Owner\\nPetrol\\nTS-10   292299.0    69079.0       1st   \n",
       "2  68,297 km\\n1st Owner\\nDiesel\\nTS-07   993899.0    68297.0       1st   \n",
       "3  10,056 km\\n2nd Owner\\nPetrol\\nAP-39   643499.0    10056.0       2nd   \n",
       "4  43,956 km\\n1st Owner\\nDiesel\\nAP-39  1629399.0    43956.0       1st   \n",
       "\n",
       "  fuel_type Registration  model_year             car_name transmission  \\\n",
       "0    Petrol        TS-07      2015.0   Maruti Swift Dzire       Manual   \n",
       "1    Petrol        TS-10      2014.0          Hyundai Eon       Manual   \n",
       "2    Diesel        TS-07      2018.0        Maruti Ertiga       Manual   \n",
       "3    Petrol        AP-39      2020.0         Maruti Swift       Manual   \n",
       "4    Diesel        AP-39      2021.0     Mahindra Scorpio       Manual   \n",
       "\n",
       "      brand  \n",
       "0    Maruti  \n",
       "1   Hyundai  \n",
       "2    Maruti  \n",
       "3    Maruti  \n",
       "4  Mahindra  "
      ]
     },
     "execution_count": 111,
     "metadata": {},
     "output_type": "execute_result"
    }
   ],
   "source": [
    "df.head()"
   ]
  },
  {
   "cell_type": "code",
   "execution_count": 125,
   "id": "8d71c8c6",
   "metadata": {},
   "outputs": [
    {
     "data": {
      "image/png": "[encoded data removed]",
      "text/plain": [
       "<Figure size 432x288 with 1 Axes>"
      ]
     },
     "metadata": {
      "needs_background": "light"
     },
     "output_type": "display_data"
    }
   ],
   "source": [
    "###problem : what is the price of cars in each model year ?\n",
    "\n",
    "\n",
    "## analysis of car_price, model_year\n",
    "\n",
    "sns.scatterplot(x=df.car_price,y=df.model_year)\n",
    "plt.show()"
   ]
  },
  {
   "cell_type": "code",
   "execution_count": 126,
   "id": "d3eccb95",
   "metadata": {},
   "outputs": [
    {
     "data": {
      "image/png": "[encoded data removed]",
      "text/plain": [
       "<Figure size 432x288 with 1 Axes>"
      ]
     },
     "metadata": {
      "needs_background": "light"
     },
     "output_type": "display_data"
    }
   ],
   "source": [
    "### problem : Total cars according to car price and km driven ?\n",
    "\n",
    "sns.scatterplot(x=df.car_price,y=df.km_driven)\n",
    "plt.show()"
   ]
  },
  {
   "cell_type": "code",
   "execution_count": 177,
   "id": "c99f128a",
   "metadata": {},
   "outputs": [
    {
     "data": {
      "image/png": "[encoded data removed]",
      "text/plain": [
       "<Figure size 432x288 with 1 Axes>"
      ]
     },
     "metadata": {
      "needs_background": "light"
     },
     "output_type": "display_data"
    }
   ],
   "source": [
    "### problem : whats the average price of car of each ownership ?\n",
    "\n",
    "sns.barplot(x=df.ownership,y=df.car_price)\n",
    "plt.show()"
   ]
  },
  {
   "cell_type": "code",
   "execution_count": 178,
   "id": "39897963",
   "metadata": {},
   "outputs": [
    {
     "data": {
      "image/png": "[encoded data removed]",
      "text/plain": [
       "<Figure size 432x288 with 1 Axes>"
      ]
     },
     "metadata": {
      "needs_background": "light"
     },
     "output_type": "display_data"
    }
   ],
   "source": [
    "### problem: whats the average price of car of fuel types ?\n",
    "\n",
    "sns.violinplot(x=df.fuel_type,y=df.car_price)\n",
    "plt.show()"
   ]
  },
  {
   "cell_type": "code",
   "execution_count": 181,
   "id": "d68bd224",
   "metadata": {
    "scrolled": true
   },
   "outputs": [
    {
     "data": {
      "image/png": "[encoded data removed]",
      "text/plain": [
       "<Figure size 432x288 with 1 Axes>"
      ]
     },
     "metadata": {
      "needs_background": "light"
     },
     "output_type": "display_data"
    }
   ],
   "source": [
    "### problem : how many km are completed on average by every ownership ?\n",
    "\n",
    "\n",
    "sns.barplot(x=df.ownership,y=df.km_driven)\n",
    "plt.show()"
   ]
  },
  {
   "cell_type": "code",
   "execution_count": 182,
   "id": "612b41ae",
   "metadata": {},
   "outputs": [
    {
     "data": {
      "text/html": [
       "<div>\n",
       "<style scoped>\n",
       "    .dataframe tbody tr th:only-of-type {\n",
       "        vertical-align: middle;\n",
       "    }\n",
       "\n",
       "    .dataframe tbody tr th {\n",
       "        vertical-align: top;\n",
       "    }\n",
       "\n",
       "    .dataframe thead th {\n",
       "        text-align: right;\n",
       "    }\n",
       "</style>\n",
       "<table border=\"1\" class=\"dataframe\">\n",
       "  <thead>\n",
       "    <tr style=\"text-align: right;\">\n",
       "      <th>ownership</th>\n",
       "      <th>1st</th>\n",
       "      <th>2nd</th>\n",
       "      <th>3rd</th>\n",
       "    </tr>\n",
       "    <tr>\n",
       "      <th>model_year</th>\n",
       "      <th></th>\n",
       "      <th></th>\n",
       "      <th></th>\n",
       "    </tr>\n",
       "  </thead>\n",
       "  <tbody>\n",
       "    <tr>\n",
       "      <th>2009.0</th>\n",
       "      <td>0</td>\n",
       "      <td>2</td>\n",
       "      <td>0</td>\n",
       "    </tr>\n",
       "    <tr>\n",
       "      <th>2011.0</th>\n",
       "      <td>3</td>\n",
       "      <td>1</td>\n",
       "      <td>1</td>\n",
       "    </tr>\n",
       "    <tr>\n",
       "      <th>2012.0</th>\n",
       "      <td>9</td>\n",
       "      <td>6</td>\n",
       "      <td>1</td>\n",
       "    </tr>\n",
       "    <tr>\n",
       "      <th>2013.0</th>\n",
       "      <td>12</td>\n",
       "      <td>13</td>\n",
       "      <td>0</td>\n",
       "    </tr>\n",
       "    <tr>\n",
       "      <th>2014.0</th>\n",
       "      <td>23</td>\n",
       "      <td>15</td>\n",
       "      <td>3</td>\n",
       "    </tr>\n",
       "    <tr>\n",
       "      <th>2015.0</th>\n",
       "      <td>17</td>\n",
       "      <td>14</td>\n",
       "      <td>1</td>\n",
       "    </tr>\n",
       "    <tr>\n",
       "      <th>2016.0</th>\n",
       "      <td>16</td>\n",
       "      <td>12</td>\n",
       "      <td>1</td>\n",
       "    </tr>\n",
       "    <tr>\n",
       "      <th>2017.0</th>\n",
       "      <td>52</td>\n",
       "      <td>21</td>\n",
       "      <td>0</td>\n",
       "    </tr>\n",
       "    <tr>\n",
       "      <th>2018.0</th>\n",
       "      <td>57</td>\n",
       "      <td>17</td>\n",
       "      <td>4</td>\n",
       "    </tr>\n",
       "    <tr>\n",
       "      <th>2019.0</th>\n",
       "      <td>62</td>\n",
       "      <td>20</td>\n",
       "      <td>0</td>\n",
       "    </tr>\n",
       "    <tr>\n",
       "      <th>2020.0</th>\n",
       "      <td>48</td>\n",
       "      <td>9</td>\n",
       "      <td>0</td>\n",
       "    </tr>\n",
       "    <tr>\n",
       "      <th>2021.0</th>\n",
       "      <td>53</td>\n",
       "      <td>5</td>\n",
       "      <td>0</td>\n",
       "    </tr>\n",
       "    <tr>\n",
       "      <th>2022.0</th>\n",
       "      <td>16</td>\n",
       "      <td>1</td>\n",
       "      <td>0</td>\n",
       "    </tr>\n",
       "  </tbody>\n",
       "</table>\n",
       "</div>"
      ],
      "text/plain": [
       "ownership   1st  2nd  3rd\n",
       "model_year               \n",
       "2009.0        0    2    0\n",
       "2011.0        3    1    1\n",
       "2012.0        9    6    1\n",
       "2013.0       12   13    0\n",
       "2014.0       23   15    3\n",
       "2015.0       17   14    1\n",
       "2016.0       16   12    1\n",
       "2017.0       52   21    0\n",
       "2018.0       57   17    4\n",
       "2019.0       62   20    0\n",
       "2020.0       48    9    0\n",
       "2021.0       53    5    0\n",
       "2022.0       16    1    0"
      ]
     },
     "execution_count": 182,
     "metadata": {},
     "output_type": "execute_result"
    }
   ],
   "source": [
    "### problem :what is the ownership type of every model year ?\n",
    "\n",
    "pd.crosstab(df.model_year,df.ownership)"
   ]
  },
  {
   "cell_type": "code",
   "execution_count": 184,
   "id": "9bd78769",
   "metadata": {},
   "outputs": [
    {
     "data": {
      "text/html": [
       "<div>\n",
       "<style scoped>\n",
       "    .dataframe tbody tr th:only-of-type {\n",
       "        vertical-align: middle;\n",
       "    }\n",
       "\n",
       "    .dataframe tbody tr th {\n",
       "        vertical-align: top;\n",
       "    }\n",
       "\n",
       "    .dataframe thead tr th {\n",
       "        text-align: left;\n",
       "    }\n",
       "\n",
       "    .dataframe thead tr:last-of-type th {\n",
       "        text-align: right;\n",
       "    }\n",
       "</style>\n",
       "<table border=\"1\" class=\"dataframe\">\n",
       "  <thead>\n",
       "    <tr>\n",
       "      <th></th>\n",
       "      <th colspan=\"3\" halign=\"left\">car_price</th>\n",
       "    </tr>\n",
       "    <tr>\n",
       "      <th></th>\n",
       "      <th>min</th>\n",
       "      <th>max</th>\n",
       "      <th>mean</th>\n",
       "    </tr>\n",
       "    <tr>\n",
       "      <th>brand</th>\n",
       "      <th></th>\n",
       "      <th></th>\n",
       "      <th></th>\n",
       "    </tr>\n",
       "  </thead>\n",
       "  <tbody>\n",
       "    <tr>\n",
       "      <th>Datsun</th>\n",
       "      <td>298899.0</td>\n",
       "      <td>533399.0</td>\n",
       "      <td>3.770768e+05</td>\n",
       "    </tr>\n",
       "    <tr>\n",
       "      <th>Ford</th>\n",
       "      <td>536999.0</td>\n",
       "      <td>3237699.0</td>\n",
       "      <td>9.559457e+05</td>\n",
       "    </tr>\n",
       "    <tr>\n",
       "      <th>Honda</th>\n",
       "      <td>374499.0</td>\n",
       "      <td>1274199.0</td>\n",
       "      <td>7.277677e+05</td>\n",
       "    </tr>\n",
       "    <tr>\n",
       "      <th>Hyundai</th>\n",
       "      <td>217099.0</td>\n",
       "      <td>1605999.0</td>\n",
       "      <td>6.631957e+05</td>\n",
       "    </tr>\n",
       "    <tr>\n",
       "      <th>Jeep</th>\n",
       "      <td>1322499.0</td>\n",
       "      <td>1516699.0</td>\n",
       "      <td>1.414249e+06</td>\n",
       "    </tr>\n",
       "    <tr>\n",
       "      <th>KIA</th>\n",
       "      <td>1170299.0</td>\n",
       "      <td>1808599.0</td>\n",
       "      <td>1.424122e+06</td>\n",
       "    </tr>\n",
       "    <tr>\n",
       "      <th>MARUTI</th>\n",
       "      <td>1304699.0</td>\n",
       "      <td>1304699.0</td>\n",
       "      <td>1.304699e+06</td>\n",
       "    </tr>\n",
       "    <tr>\n",
       "      <th>MG</th>\n",
       "      <td>1577699.0</td>\n",
       "      <td>1760299.0</td>\n",
       "      <td>1.664874e+06</td>\n",
       "    </tr>\n",
       "    <tr>\n",
       "      <th>Mahindra</th>\n",
       "      <td>419299.0</td>\n",
       "      <td>1704999.0</td>\n",
       "      <td>1.236107e+06</td>\n",
       "    </tr>\n",
       "    <tr>\n",
       "      <th>Maruti</th>\n",
       "      <td>227299.0</td>\n",
       "      <td>1232199.0</td>\n",
       "      <td>5.640858e+05</td>\n",
       "    </tr>\n",
       "    <tr>\n",
       "      <th>Nissan</th>\n",
       "      <td>418499.0</td>\n",
       "      <td>1022199.0</td>\n",
       "      <td>5.972419e+05</td>\n",
       "    </tr>\n",
       "    <tr>\n",
       "      <th>Renault</th>\n",
       "      <td>302249.0</td>\n",
       "      <td>1205599.0</td>\n",
       "      <td>5.459961e+05</td>\n",
       "    </tr>\n",
       "    <tr>\n",
       "      <th>SKODA</th>\n",
       "      <td>1786749.0</td>\n",
       "      <td>1786749.0</td>\n",
       "      <td>1.786749e+06</td>\n",
       "    </tr>\n",
       "    <tr>\n",
       "      <th>Skoda</th>\n",
       "      <td>684799.0</td>\n",
       "      <td>1943999.0</td>\n",
       "      <td>1.110070e+06</td>\n",
       "    </tr>\n",
       "    <tr>\n",
       "      <th>Tata</th>\n",
       "      <td>600599.0</td>\n",
       "      <td>1839699.0</td>\n",
       "      <td>9.226490e+05</td>\n",
       "    </tr>\n",
       "    <tr>\n",
       "      <th>Toyota</th>\n",
       "      <td>504299.0</td>\n",
       "      <td>1135899.0</td>\n",
       "      <td>7.644990e+05</td>\n",
       "    </tr>\n",
       "    <tr>\n",
       "      <th>Volkswagen</th>\n",
       "      <td>389399.0</td>\n",
       "      <td>993299.0</td>\n",
       "      <td>7.443046e+05</td>\n",
       "    </tr>\n",
       "  </tbody>\n",
       "</table>\n",
       "</div>"
      ],
      "text/plain": [
       "            car_price                         \n",
       "                  min        max          mean\n",
       "brand                                         \n",
       "Datsun       298899.0   533399.0  3.770768e+05\n",
       "Ford         536999.0  3237699.0  9.559457e+05\n",
       "Honda        374499.0  1274199.0  7.277677e+05\n",
       "Hyundai      217099.0  1605999.0  6.631957e+05\n",
       "Jeep        1322499.0  1516699.0  1.414249e+06\n",
       "KIA         1170299.0  1808599.0  1.424122e+06\n",
       "MARUTI      1304699.0  1304699.0  1.304699e+06\n",
       "MG          1577699.0  1760299.0  1.664874e+06\n",
       "Mahindra     419299.0  1704999.0  1.236107e+06\n",
       "Maruti       227299.0  1232199.0  5.640858e+05\n",
       "Nissan       418499.0  1022199.0  5.972419e+05\n",
       "Renault      302249.0  1205599.0  5.459961e+05\n",
       "SKODA       1786749.0  1786749.0  1.786749e+06\n",
       "Skoda        684799.0  1943999.0  1.110070e+06\n",
       "Tata         600599.0  1839699.0  9.226490e+05\n",
       "Toyota       504299.0  1135899.0  7.644990e+05\n",
       "Volkswagen   389399.0   993299.0  7.443046e+05"
      ]
     },
     "execution_count": 184,
     "metadata": {},
     "output_type": "execute_result"
    }
   ],
   "source": [
    "### problem : what is the min ,max and average price of every car brand ?\n",
    "\n",
    "df.groupby(['brand']).agg({'car_price' : ['min', 'max', 'mean']})"
   ]
  },
  {
   "cell_type": "code",
   "execution_count": 185,
   "id": "0bfb3aef",
   "metadata": {},
   "outputs": [
    {
     "data": {
      "text/plain": [
       "<AxesSubplot:xlabel='brand'>"
      ]
     },
     "execution_count": 185,
     "metadata": {},
     "output_type": "execute_result"
    },
    {
     "data": {
      "image/png": "[encoded data removed]",
      "text/plain": [
       "<Figure size 1080x504 with 1 Axes>"
      ]
     },
     "metadata": {
      "needs_background": "light"
     },
     "output_type": "display_data"
    }
   ],
   "source": [
    "### problem : what is the maximum price of car price of each brand ?\n",
    "\n",
    "plt.figure(figsize=(15, 7))\n",
    "df.groupby(['brand'])['car_price'].max().plot(kind = 'bar')"
   ]
  },
  {
   "cell_type": "code",
   "execution_count": 186,
   "id": "876c6939",
   "metadata": {},
   "outputs": [
    {
     "data": {
      "text/plain": [
       "<AxesSubplot:xlabel='brand'>"
      ]
     },
     "execution_count": 186,
     "metadata": {},
     "output_type": "execute_result"
    },
    {
     "data": {
      "image/png": "[encoded data removed]",
      "text/plain": [
       "<Figure size 1080x504 with 1 Axes>"
      ]
     },
     "metadata": {
      "needs_background": "light"
     },
     "output_type": "display_data"
    }
   ],
   "source": [
    "### problem : what is the minimum price of car price of each brand ?\n",
    "\n",
    "plt.figure(figsize=(15, 7))\n",
    "df.groupby(['brand'])['car_price'].min().plot(kind = 'bar')"
   ]
  },
  {
   "cell_type": "markdown",
   "id": "8ffecc15",
   "metadata": {},
   "source": [
    "## multivariate analysis"
   ]
  },
  {
   "cell_type": "code",
   "execution_count": 198,
   "id": "a012675f",
   "metadata": {},
   "outputs": [
    {
     "data": {
      "text/plain": [
       "<seaborn.axisgrid.FacetGrid at 0x1d771aabbe0>"
      ]
     },
     "execution_count": 198,
     "metadata": {},
     "output_type": "execute_result"
    },
    {
     "data": {
      "image/png": "[encoded data removed]",
      "text/plain": [
       "<Figure size 419.5x360 with 1 Axes>"
      ]
     },
     "metadata": {
      "needs_background": "light"
     },
     "output_type": "display_data"
    }
   ],
   "source": [
    "### problem: show the car price and km covered by car according to the type of ownership ?\n",
    "\n",
    "sns.lmplot(x='km_driven', y='car_price', hue='ownership',data=df.loc[df['ownership'].isin(['1st', '2nd', '3rd'])], \n",
    "           fit_reg=False)"
   ]
  },
  {
   "cell_type": "code",
   "execution_count": 191,
   "id": "045765e8",
   "metadata": {},
   "outputs": [
    {
     "data": {
      "text/plain": [
       "<AxesSubplot:xlabel='km_driven', ylabel='car_price'>"
      ]
     },
     "execution_count": 191,
     "metadata": {},
     "output_type": "execute_result"
    },
    {
     "data": {
      "image/png": "[encoded data removed]",
      "text/plain": [
       "<Figure size 432x288 with 1 Axes>"
      ]
     },
     "metadata": {
      "needs_background": "light"
     },
     "output_type": "display_data"
    }
   ],
   "source": [
    "### problem: show the car price and km covered by car according to the type of fuel type ?\n",
    "\n",
    "sns.scatterplot(x=\"km_driven\", y=\"car_price\", hue='fuel_type', data=df)"
   ]
  },
  {
   "cell_type": "code",
   "execution_count": 214,
   "id": "7cd05408",
   "metadata": {},
   "outputs": [
    {
     "data": {
      "text/plain": [
       "(array([ 0,  1,  2,  3,  4,  5,  6,  7,  8,  9, 10, 11, 12]),\n",
       " [Text(0, 0, '2009.0'),\n",
       "  Text(1, 0, '2011.0'),\n",
       "  Text(2, 0, '2012.0'),\n",
       "  Text(3, 0, '2013.0'),\n",
       "  Text(4, 0, '2014.0'),\n",
       "  Text(5, 0, '2015.0'),\n",
       "  Text(6, 0, '2016.0'),\n",
       "  Text(7, 0, '2017.0'),\n",
       "  Text(8, 0, '2018.0'),\n",
       "  Text(9, 0, '2019.0'),\n",
       "  Text(10, 0, '2020.0'),\n",
       "  Text(11, 0, '2021.0'),\n",
       "  Text(12, 0, '2022.0')])"
      ]
     },
     "execution_count": 214,
     "metadata": {},
     "output_type": "execute_result"
    },
    {
     "data": {
      "image/png": "[encoded data removed]",
      "text/plain": [
       "<Figure size 720x576 with 1 Axes>"
      ]
     },
     "metadata": {
      "needs_background": "light"
     },
     "output_type": "display_data"
    }
   ],
   "source": [
    "### problem : what are the prices of cars in different model years according to the fuel type ?\n",
    "\n",
    "plt.figure(figsize=(10, 8))\n",
    "sns.boxplot(x=\"model_year\", y=\"car_price\", hue='fuel_type', data=df)\n",
    "plt.xticks(rotation=90)"
   ]
  },
  {
   "cell_type": "code",
   "execution_count": 81,
   "id": "da8a317a",
   "metadata": {},
   "outputs": [
    {
     "data": {
      "text/plain": [
       "<seaborn.axisgrid.PairGrid at 0x15666d56fd0>"
      ]
     },
     "execution_count": 81,
     "metadata": {},
     "output_type": "execute_result"
    },
    {
     "data": {
      "image/png": "[encoded data removed]",
      "text/plain": [
       "<Figure size 607x540 with 12 Axes>"
      ]
     },
     "metadata": {
      "needs_background": "light"
     },
     "output_type": "display_data"
    }
   ],
   "source": [
    "# pairplot and heatmap \n",
    "\n",
    "sns.pairplot(df, hue ='fuel_type')"
   ]
  },
  {
   "cell_type": "code",
   "execution_count": 94,
   "id": "d7729ff9",
   "metadata": {},
   "outputs": [
    {
     "data": {
      "text/html": [
       "<div>\n",
       "<style scoped>\n",
       "    .dataframe tbody tr th:only-of-type {\n",
       "        vertical-align: middle;\n",
       "    }\n",
       "\n",
       "    .dataframe tbody tr th {\n",
       "        vertical-align: top;\n",
       "    }\n",
       "\n",
       "    .dataframe thead th {\n",
       "        text-align: right;\n",
       "    }\n",
       "</style>\n",
       "<table border=\"1\" class=\"dataframe\">\n",
       "  <thead>\n",
       "    <tr style=\"text-align: right;\">\n",
       "      <th></th>\n",
       "      <th>brand</th>\n",
       "      <th>car_title</th>\n",
       "      <th>engine_transmission</th>\n",
       "      <th>car_details</th>\n",
       "      <th>car_price</th>\n",
       "      <th>km_driven</th>\n",
       "      <th>ownership</th>\n",
       "      <th>fuel_type</th>\n",
       "      <th>Registration</th>\n",
       "      <th>model_year</th>\n",
       "      <th>car_name</th>\n",
       "      <th>transmission</th>\n",
       "    </tr>\n",
       "  </thead>\n",
       "  <tbody>\n",
       "    <tr>\n",
       "      <th>0</th>\n",
       "      <td>Maruti</td>\n",
       "      <td>2015 Maruti Swift Dzire</td>\n",
       "      <td>VXI Manual</td>\n",
       "      <td>94,590 km\\n1st Owner\\nPetrol\\nTS-07</td>\n",
       "      <td>470699.0</td>\n",
       "      <td>94590.0</td>\n",
       "      <td>1st</td>\n",
       "      <td>Petrol</td>\n",
       "      <td>TS-07</td>\n",
       "      <td>2015.0</td>\n",
       "      <td>Maruti Swift Dzire</td>\n",
       "      <td>Manual</td>\n",
       "    </tr>\n",
       "    <tr>\n",
       "      <th>1</th>\n",
       "      <td>Hyundai</td>\n",
       "      <td>2014 Hyundai Eon</td>\n",
       "      <td>ERA PLUS Manual</td>\n",
       "      <td>69,079 km\\n1st Owner\\nPetrol\\nTS-10</td>\n",
       "      <td>292299.0</td>\n",
       "      <td>69079.0</td>\n",
       "      <td>1st</td>\n",
       "      <td>Petrol</td>\n",
       "      <td>TS-10</td>\n",
       "      <td>2014.0</td>\n",
       "      <td>Hyundai Eon</td>\n",
       "      <td>Manual</td>\n",
       "    </tr>\n",
       "    <tr>\n",
       "      <th>2</th>\n",
       "      <td>Maruti</td>\n",
       "      <td>2018 Maruti Ertiga</td>\n",
       "      <td>ZDI PLUS SHVS Manual</td>\n",
       "      <td>68,297 km\\n1st Owner\\nDiesel\\nTS-07</td>\n",
       "      <td>993899.0</td>\n",
       "      <td>68297.0</td>\n",
       "      <td>1st</td>\n",
       "      <td>Diesel</td>\n",
       "      <td>TS-07</td>\n",
       "      <td>2018.0</td>\n",
       "      <td>Maruti Ertiga</td>\n",
       "      <td>Manual</td>\n",
       "    </tr>\n",
       "    <tr>\n",
       "      <th>3</th>\n",
       "      <td>Maruti</td>\n",
       "      <td>2020 Maruti Swift</td>\n",
       "      <td>VXI Manual</td>\n",
       "      <td>10,056 km\\n2nd Owner\\nPetrol\\nAP-39</td>\n",
       "      <td>643499.0</td>\n",
       "      <td>10056.0</td>\n",
       "      <td>2nd</td>\n",
       "      <td>Petrol</td>\n",
       "      <td>AP-39</td>\n",
       "      <td>2020.0</td>\n",
       "      <td>Maruti Swift</td>\n",
       "      <td>Manual</td>\n",
       "    </tr>\n",
       "    <tr>\n",
       "      <th>4</th>\n",
       "      <td>Mahindra</td>\n",
       "      <td>2021 Mahindra Scorpio</td>\n",
       "      <td>S11 Manual</td>\n",
       "      <td>43,956 km\\n1st Owner\\nDiesel\\nAP-39</td>\n",
       "      <td>1629399.0</td>\n",
       "      <td>43956.0</td>\n",
       "      <td>1st</td>\n",
       "      <td>Diesel</td>\n",
       "      <td>AP-39</td>\n",
       "      <td>2021.0</td>\n",
       "      <td>Mahindra Scorpio</td>\n",
       "      <td>Manual</td>\n",
       "    </tr>\n",
       "  </tbody>\n",
       "</table>\n",
       "</div>"
      ],
      "text/plain": [
       "      brand                car_title   engine_transmission  \\\n",
       "0    Maruti  2015 Maruti Swift Dzire            VXI Manual   \n",
       "1   Hyundai         2014 Hyundai Eon       ERA PLUS Manual   \n",
       "2    Maruti       2018 Maruti Ertiga  ZDI PLUS SHVS Manual   \n",
       "3    Maruti        2020 Maruti Swift            VXI Manual   \n",
       "4  Mahindra    2021 Mahindra Scorpio            S11 Manual   \n",
       "\n",
       "                           car_details  car_price  km_driven ownership  \\\n",
       "0  94,590 km\\n1st Owner\\nPetrol\\nTS-07   470699.0    94590.0       1st   \n",
       "1  69,079 km\\n1st Owner\\nPetrol\\nTS-10   292299.0    69079.0       1st   \n",
       "2  68,297 km\\n1st Owner\\nDiesel\\nTS-07   993899.0    68297.0       1st   \n",
       "3  10,056 km\\n2nd Owner\\nPetrol\\nAP-39   643499.0    10056.0       2nd   \n",
       "4  43,956 km\\n1st Owner\\nDiesel\\nAP-39  1629399.0    43956.0       1st   \n",
       "\n",
       "  fuel_type Registration  model_year             car_name transmission  \n",
       "0    Petrol        TS-07      2015.0   Maruti Swift Dzire       Manual  \n",
       "1    Petrol        TS-10      2014.0          Hyundai Eon       Manual  \n",
       "2    Diesel        TS-07      2018.0        Maruti Ertiga       Manual  \n",
       "3    Petrol        AP-39      2020.0         Maruti Swift       Manual  \n",
       "4    Diesel        AP-39      2021.0     Mahindra Scorpio       Manual  "
      ]
     },
     "execution_count": 94,
     "metadata": {},
     "output_type": "execute_result"
    }
   ],
   "source": [
    "df.head()"
   ]
  },
  {
   "cell_type": "code",
   "execution_count": 95,
   "id": "0148f2fb",
   "metadata": {},
   "outputs": [
    {
     "data": {
      "text/plain": [
       "(array([0.5, 1.5, 2.5]),\n",
       " [Text(0.5, 0, 'model_year'),\n",
       "  Text(1.5, 0, 'km_driven'),\n",
       "  Text(2.5, 0, 'car_price')])"
      ]
     },
     "execution_count": 95,
     "metadata": {},
     "output_type": "execute_result"
    },
    {
     "data": {
      "image/png": "[encoded data removed]",
      "text/plain": [
       "<Figure size 1152x576 with 2 Axes>"
      ]
     },
     "metadata": {
      "needs_background": "light"
     },
     "output_type": "display_data"
    }
   ],
   "source": [
    "# plotting the heatmap \n",
    "fig, ax = plt.subplots(figsize=(16,8))\n",
    "sns.set()\n",
    "sns.heatmap(df[['model_year','km_driven','car_price']], cmap='YlGnBu')\n",
    "plt.xticks(rotation=15)"
   ]
  },
  {
   "cell_type": "code",
   "execution_count": null,
   "id": "17997c35",
   "metadata": {},
   "outputs": [],
   "source": []
  }
 ],
 "metadata": {
  "kernelspec": {
   "display_name": "Python 3 (ipykernel)",
   "language": "python",
   "name": "python3"
  },
  "language_info": {
   "codemirror_mode": {
    "name": "ipython",
    "version": 3
   },
   "file_extension": ".py",
   "mimetype": "text/x-python",
   "name": "python",
   "nbconvert_exporter": "python",
   "pygments_lexer": "ipython3",
   "version": "3.9.12"
  }
 },
 "nbformat": 4,
 "nbformat_minor": 5
}
